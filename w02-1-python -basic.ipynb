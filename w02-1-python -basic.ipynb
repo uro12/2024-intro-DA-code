{
 "cells": [
  {
   "cell_type": "markdown",
   "metadata": {},
   "source": [
    "# 주석과 상수"
   ]
  },
  {
   "cell_type": "code",
   "execution_count": 1,
   "metadata": {},
   "outputs": [],
   "source": [
    "#comment"
   ]
  },
  {
   "cell_type": "code",
   "execution_count": 4,
   "metadata": {},
   "outputs": [
    {
     "ename": "SyntaxError",
     "evalue": "invalid decimal literal (2272915870.py, line 1)",
     "output_type": "error",
     "traceback": [
      "\u001b[1;36m  Cell \u001b[1;32mIn[4], line 1\u001b[1;36m\u001b[0m\n\u001b[1;33m    7L\u001b[0m\n\u001b[1;37m    ^\u001b[0m\n\u001b[1;31mSyntaxError\u001b[0m\u001b[1;31m:\u001b[0m invalid decimal literal\n"
     ]
    }
   ],
   "source": [
    "7L"
   ]
  },
  {
   "cell_type": "code",
   "execution_count": 5,
   "metadata": {},
   "outputs": [
    {
     "data": {
      "text/plain": [
       "(10, -3)"
      ]
     },
     "execution_count": 5,
     "metadata": {},
     "output_type": "execute_result"
    }
   ],
   "source": [
    "10, -3"
   ]
  },
  {
   "cell_type": "markdown",
   "metadata": {},
   "source": [
    "# 변수와 대입"
   ]
  },
  {
   "cell_type": "code",
   "execution_count": 6,
   "metadata": {},
   "outputs": [
    {
     "data": {
      "text/plain": [
       "3"
      ]
     },
     "execution_count": 6,
     "metadata": {},
     "output_type": "execute_result"
    }
   ],
   "source": [
    "# variable\n",
    "a = 3 # assign variable a\n",
    "a"
   ]
  },
  {
   "cell_type": "code",
   "execution_count": 7,
   "metadata": {},
   "outputs": [
    {
     "name": "stdout",
     "output_type": "stream",
     "text": [
      "10 20\n"
     ]
    }
   ],
   "source": [
    "m, n = 10, 20\n",
    "print(m, n)"
   ]
  },
  {
   "cell_type": "markdown",
   "metadata": {},
   "source": [
    "# 변수 이름 조건\n",
    "\n",
    "- 영어 알파벳, 숫자, _(밑줄을)로 시작\n",
    "- 첫 글자는 반드시 알파벳이나 밑줄(_)로 시작\n",
    "- 다양한 특수 문자(%,$,# 등)을 상용할 수 없음\n",
    "- 문법에 사용하는 if while 등의 키워드는 사용할 수 없음"
   ]
  },
  {
   "cell_type": "code",
   "execution_count": 11,
   "metadata": {},
   "outputs": [
    {
     "name": "stdout",
     "output_type": "stream",
     "text": [
      "19\n",
      "20\n",
      "172.3\n"
     ]
    }
   ],
   "source": [
    "# var name\n",
    "age = 19\n",
    "age\n",
    "print(age)\n",
    "\n",
    "my_age = 20\n",
    "my_age \n",
    "print(my_age)\n",
    "\n",
    "_height = 172.3\n",
    "_height\n",
    "print(_height)"
   ]
  },
  {
   "cell_type": "code",
   "execution_count": 1,
   "metadata": {},
   "outputs": [
    {
     "data": {
      "text/plain": [
       "2026"
      ]
     },
     "execution_count": 1,
     "metadata": {},
     "output_type": "execute_result"
    }
   ],
   "source": [
    "# 첫 줄 이후에 바로 숫자 나와도 문제 없다.\n",
    "_26asian = 2026 # 첫 _ 이후에 바로 숫자 사용 가능\n",
    "_26asian"
   ]
  },
  {
   "cell_type": "code",
   "execution_count": 1,
   "metadata": {},
   "outputs": [],
   "source": [
    "# 잘못된 변수\n",
    "_26worldup = 2026 # 수가 맨 먼저 위치하면 에러\n"
   ]
  },
  {
   "cell_type": "code",
   "execution_count": 3,
   "metadata": {},
   "outputs": [
    {
     "ename": "NameError",
     "evalue": "name 'my' is not defined",
     "output_type": "error",
     "traceback": [
      "\u001b[1;31m---------------------------------------------------------------------------\u001b[0m",
      "\u001b[1;31mNameError\u001b[0m                                 Traceback (most recent call last)",
      "Cell \u001b[1;32mIn[3], line 1\u001b[0m\n\u001b[1;32m----> 1\u001b[0m \u001b[43mmy\u001b[49m\u001b[38;5;241m.\u001b[39mage \u001b[38;5;241m=\u001b[39m \u001b[38;5;241m26\u001b[39m \u001b[38;5;66;03m#.을 사용하면 에러\u001b[39;00m\n",
      "\u001b[1;31mNameError\u001b[0m: name 'my' is not defined"
     ]
    }
   ],
   "source": [
    "my.age = 26 #.을 사용하면 에러"
   ]
  },
  {
   "cell_type": "code",
   "execution_count": 4,
   "metadata": {},
   "outputs": [
    {
     "ename": "SyntaxError",
     "evalue": "invalid syntax (2452957958.py, line 1)",
     "output_type": "error",
     "traceback": [
      "\u001b[1;36m  Cell \u001b[1;32mIn[4], line 1\u001b[1;36m\u001b[0m\n\u001b[1;33m    my credits = 18 # 공백 문자 등 다른 문자를 사용하면 에러\u001b[0m\n\u001b[1;37m       ^\u001b[0m\n\u001b[1;31mSyntaxError\u001b[0m\u001b[1;31m:\u001b[0m invalid syntax\n"
     ]
    }
   ],
   "source": [
    "my credits = 18 # 공백 문자 등 다른 문자를 사용하면 에러"
   ]
  },
  {
   "cell_type": "code",
   "execution_count": 5,
   "metadata": {},
   "outputs": [
    {
     "name": "stdout",
     "output_type": "stream",
     "text": [
      "10\n"
     ]
    }
   ],
   "source": [
    "#int \n",
    "a = 10\n",
    "print(a)"
   ]
  },
  {
   "cell_type": "code",
   "execution_count": 6,
   "metadata": {},
   "outputs": [
    {
     "data": {
      "text/plain": [
       "int"
      ]
     },
     "execution_count": 6,
     "metadata": {},
     "output_type": "execute_result"
    }
   ],
   "source": [
    "type(a)"
   ]
  },
  {
   "cell_type": "code",
   "execution_count": 7,
   "metadata": {},
   "outputs": [
    {
     "name": "stdout",
     "output_type": "stream",
     "text": [
      "2.718\n"
     ]
    },
    {
     "data": {
      "text/plain": [
       "float"
      ]
     },
     "execution_count": 7,
     "metadata": {},
     "output_type": "execute_result"
    }
   ],
   "source": [
    "# float\n",
    "x = 2.718\n",
    "print(x)\n",
    "type(x)"
   ]
  },
  {
   "cell_type": "code",
   "execution_count": 9,
   "metadata": {},
   "outputs": [
    {
     "name": "stdout",
     "output_type": "stream",
     "text": [
      "(3-4j)\n"
     ]
    },
    {
     "data": {
      "text/plain": [
       "complex"
      ]
     },
     "execution_count": 9,
     "metadata": {},
     "output_type": "execute_result"
    }
   ],
   "source": [
    "#complex\n",
    "c = 3 - 4j\n",
    "print(c)\n",
    "type(c)"
   ]
  },
  {
   "cell_type": "code",
   "execution_count": 10,
   "metadata": {},
   "outputs": [
    {
     "name": "stdout",
     "output_type": "stream",
     "text": [
      "VS code\n"
     ]
    },
    {
     "data": {
      "text/plain": [
       "str"
      ]
     },
     "execution_count": 10,
     "metadata": {},
     "output_type": "execute_result"
    }
   ],
   "source": [
    "#string \n",
    "s = \"VS code\"\n",
    "print(s)\n",
    "type(s)"
   ]
  },
  {
   "cell_type": "code",
   "execution_count": 11,
   "metadata": {},
   "outputs": [
    {
     "name": "stdout",
     "output_type": "stream",
     "text": [
      "True\n"
     ]
    },
    {
     "data": {
      "text/plain": [
       "bool"
      ]
     },
     "execution_count": 11,
     "metadata": {},
     "output_type": "execute_result"
    }
   ],
   "source": [
    "#logical\n",
    "b = True\n",
    "print(b)\n",
    "type(b)"
   ]
  },
  {
   "cell_type": "code",
   "execution_count": 12,
   "metadata": {},
   "outputs": [
    {
     "name": "stdout",
     "output_type": "stream",
     "text": [
      "2024 9 16\n"
     ]
    },
    {
     "data": {
      "text/plain": [
       "datetime.datetime"
      ]
     },
     "execution_count": 12,
     "metadata": {},
     "output_type": "execute_result"
    }
   ],
   "source": [
    "#datetime을 메모리에 로드 dt는 datatime의 약자\n",
    "import datetime as dt\n",
    "\n",
    "c = dt.datetime.now()\n",
    "print(c.year,c.month,c.day)\n",
    "type(c)"
   ]
  },
  {
   "cell_type": "code",
   "execution_count": 14,
   "metadata": {},
   "outputs": [
    {
     "name": "stdout",
     "output_type": "stream",
     "text": [
      "2026-03-01 00:00:00 요일:  <built-in method weekday of datetime.datetime object at 0x000001F2D5758900>\n"
     ]
    },
    {
     "data": {
      "text/plain": [
       "datetime.datetime"
      ]
     },
     "execution_count": 14,
     "metadata": {},
     "output_type": "execute_result"
    }
   ],
   "source": [
    "import datetime as dt\n",
    "\n",
    "d = dt.datetime(2026,3,1)\n",
    "print(d,'요일: ',d.weekday)\n",
    "type(d)"
   ]
  },
  {
   "cell_type": "code",
   "execution_count": 15,
   "metadata": {},
   "outputs": [
    {
     "name": "stdout",
     "output_type": "stream",
     "text": [
      "14.3\n",
      "4.2\n",
      "10.8\n",
      "2.5\n"
     ]
    }
   ],
   "source": [
    "\n",
    "aa = 10 + 4.3\n",
    "print(aa)\n",
    "ab = 5.4 - 1.2\n",
    "print(ab)\n",
    "ac = 4 * 2.7\n",
    "print(ac)\n",
    "ad = 10 / 4\n",
    "print(ad)"
   ]
  },
  {
   "cell_type": "code",
   "execution_count": 16,
   "metadata": {},
   "outputs": [
    {
     "name": "stdout",
     "output_type": "stream",
     "text": [
      "1\n",
      "3\n"
     ]
    }
   ],
   "source": [
    "ba = 10 % 3 # 나머지 연산자 integer division\n",
    "print(ba)\n",
    "bb = 10 // 3 # 몫 연산자\n",
    "print(bb)"
   ]
  },
  {
   "cell_type": "code",
   "execution_count": 17,
   "metadata": {},
   "outputs": [
    {
     "name": "stdout",
     "output_type": "stream",
     "text": [
      "27\n",
      "6.964404506368992\n"
     ]
    }
   ],
   "source": [
    "ca = 3 ** 3 # 지수 연산자\n",
    "print(ca)\n",
    "cb = 2 ** 2.8 # 지수 연산자\n",
    "print(cb)"
   ]
  },
  {
   "cell_type": "code",
   "execution_count": 18,
   "metadata": {},
   "outputs": [
    {
     "name": "stdout",
     "output_type": "stream",
     "text": [
      "2024-09-16 23:56:05.278837\n",
      "49\n"
     ]
    }
   ],
   "source": [
    "# 괄호 먼저 계산\n",
    "cc = 3 * (4 -2)\n",
    "print(c)\n",
    "cd = (10 - 3) ** 2\n",
    "print(cd)"
   ]
  },
  {
   "cell_type": "code",
   "execution_count": 21,
   "metadata": {},
   "outputs": [
    {
     "name": "stdout",
     "output_type": "stream",
     "text": [
      "True\n",
      "False\n",
      "True\n",
      "False\n"
     ]
    }
   ],
   "source": [
    "# 논리 값에 사용되는 논리 연산자\n",
    "Aa = True & True # and 연산자\n",
    "print(Aa)\n",
    "Ab = True and False\n",
    "print(Ab)\n",
    "Ac = True | True # or 연산자\n",
    "print(Ac)\n",
    "Ad = False or False\n",
    "print(Ad)"
   ]
  },
  {
   "cell_type": "code",
   "execution_count": 22,
   "metadata": {},
   "outputs": [
    {
     "name": "stdout",
     "output_type": "stream",
     "text": [
      "False\n",
      "True\n"
     ]
    }
   ],
   "source": [
    "# 논리 값을 바꾸는 연산자\n",
    "Ba =not True\n",
    "print(Ba)\n",
    "Bb = not False\n",
    "print(Bb)"
   ]
  },
  {
   "cell_type": "code",
   "execution_count": 23,
   "metadata": {},
   "outputs": [],
   "source": [
    "# input으로 변수에 입력한 값은 문자열 형태로 저장된다.\n",
    "year = input('당신이 태어난 년도는 ? ')"
   ]
  },
  {
   "cell_type": "code",
   "execution_count": 25,
   "metadata": {},
   "outputs": [
    {
     "name": "stdout",
     "output_type": "stream",
     "text": [
      "2005\n"
     ]
    },
    {
     "data": {
      "text/plain": [
       "str"
      ]
     },
     "execution_count": 25,
     "metadata": {},
     "output_type": "execute_result"
    }
   ],
   "source": [
    "print(year)\n",
    "type(year)"
   ]
  },
  {
   "cell_type": "code",
   "execution_count": 26,
   "metadata": {},
   "outputs": [
    {
     "name": "stdout",
     "output_type": "stream",
     "text": [
      "나이 21\n"
     ]
    }
   ],
   "source": [
    "# age = 2026 - year  은 erro input으로 변수에 입력한 값은 문자열 형태로 저장되기 때문에\n",
    "age = 2026 - int (year)\n",
    "print('나이', age)"
   ]
  },
  {
   "cell_type": "code",
   "execution_count": 27,
   "metadata": {},
   "outputs": [
    {
     "data": {
      "text/plain": [
       "3"
      ]
     },
     "execution_count": 27,
     "metadata": {},
     "output_type": "execute_result"
    }
   ],
   "source": [
    "abs(-3) # 절대값 반환 함수"
   ]
  },
  {
   "cell_type": "code",
   "execution_count": 30,
   "metadata": {},
   "outputs": [
    {
     "name": "stdout",
     "output_type": "stream",
     "text": [
      "10\n",
      "100\n",
      "10\n",
      "12\n"
     ]
    }
   ],
   "source": [
    "print(min(10,20,11)) #최솟값 반환\n",
    "print(max(10,100, 1)) #최댓값 반환\n",
    "print(min([10, 11, 12])) # 리스트 사용\n",
    "print(max([10,11,12])) #리스트 사용"
   ]
  },
  {
   "cell_type": "code",
   "execution_count": 1,
   "metadata": {},
   "outputs": [
    {
     "name": "stdout",
     "output_type": "stream",
     "text": [
      "3\n",
      "3.142\n"
     ]
    }
   ],
   "source": [
    "print(round(3.1415)) #반올림 반환 함수\n",
    "print(round(3.1415, 3)) # 소수점 셋째자리까지 표현"
   ]
  },
  {
   "cell_type": "code",
   "execution_count": 2,
   "metadata": {},
   "outputs": [
    {
     "data": {
      "text/plain": [
       "(3.141592653589793, 2.718281828459045)"
      ]
     },
     "execution_count": 2,
     "metadata": {},
     "output_type": "execute_result"
    }
   ],
   "source": [
    "# 내장 모듈 math 활용\n",
    "import math as m\n",
    "m.pi, m.e #원주율, 자연수"
   ]
  },
  {
   "cell_type": "code",
   "execution_count": 3,
   "metadata": {},
   "outputs": [
    {
     "data": {
      "text/plain": [
       "2.0"
      ]
     },
     "execution_count": 3,
     "metadata": {},
     "output_type": "execute_result"
    }
   ],
   "source": [
    "m.sqrt(4) # 제곱근"
   ]
  },
  {
   "cell_type": "code",
   "execution_count": 4,
   "metadata": {},
   "outputs": [
    {
     "name": "stdout",
     "output_type": "stream",
     "text": [
      "4\n",
      "4\n",
      "-3\n",
      "-3\n"
     ]
    }
   ],
   "source": [
    "print(m.ceil(3.7)) #3.7 이상의 가까운 정수 반환\n",
    "print(m.ceil(3.1))\n",
    "print(m.ceil(-3.7))\n",
    "print(m.ceil(-3.1))"
   ]
  },
  {
   "cell_type": "code",
   "execution_count": 5,
   "metadata": {},
   "outputs": [
    {
     "name": "stdout",
     "output_type": "stream",
     "text": [
      "3\n",
      "3\n",
      "-4\n",
      "-4\n"
     ]
    }
   ],
   "source": [
    "print(m.floor(3.7))#3.7 이하의 가까운 정수 반환\n",
    "print(m.floor(3.1))\n",
    "print(m.floor(-3.7))\n",
    "print(m.floor(-3.1))"
   ]
  },
  {
   "cell_type": "code",
   "execution_count": 6,
   "metadata": {},
   "outputs": [
    {
     "data": {
      "text/plain": [
       "3"
      ]
     },
     "execution_count": 6,
     "metadata": {},
     "output_type": "execute_result"
    }
   ],
   "source": [
    "m.trunc(3.1415)#소수점은 모두 버리고 반환"
   ]
  },
  {
   "cell_type": "code",
   "execution_count": 7,
   "metadata": {},
   "outputs": [
    {
     "name": "stdout",
     "output_type": "stream",
     "text": [
      "Name: pandas\n",
      "Version: 2.2.2\n",
      "Summary: Powerful data structures for data analysis, time series, and statistics\n",
      "Home-page: https://pandas.pydata.org\n",
      "Author: \n",
      "Author-email: The Pandas Development Team <pandas-dev@python.org>\n",
      "License: BSD 3-Clause License\n",
      "\n",
      "Copyright (c) 2008-2011, AQR Capital Management, LLC, Lambda Foundry, Inc. and PyData Development Team\n",
      "All rights reserved.\n",
      "\n",
      "Copyright (c) 2011-2023, Open source contributors.\n",
      "\n",
      "Redistribution and use in source and binary forms, with or without\n",
      "modification, are permitted provided that the following conditions are met:\n",
      "\n",
      "* Redistributions of source code must retain the above copyright notice, this\n",
      "  list of conditions and the following disclaimer.\n",
      "\n",
      "* Redistributions in binary form must reproduce the above copyright notice,\n",
      "  this list of conditions and the following disclaimer in the documentation\n",
      "  and/or other materials provided with the distribution.\n",
      "\n",
      "* Neither the name of the copyright holder nor the names of its\n",
      "  contributors may be used to endorse or promote products derived from\n",
      "  this software without specific prior written permission.\n",
      "\n",
      "THIS SOFTWARE IS PROVIDED BY THE COPYRIGHT HOLDERS AND CONTRIBUTORS \"AS IS\"\n",
      "AND ANY EXPRESS OR IMPLIED WARRANTIES, INCLUDING, BUT NOT LIMITED TO, THE\n",
      "IMPLIED WARRANTIES OF MERCHANTABILITY AND FITNESS FOR A PARTICULAR PURPOSE ARE\n",
      "DISCLAIMED. IN NO EVENT SHALL THE COPYRIGHT HOLDER OR CONTRIBUTORS BE LIABLE\n",
      "FOR ANY DIRECT, INDIRECT, INCIDENTAL, SPECIAL, EXEMPLARY, OR CONSEQUENTIAL\n",
      "DAMAGES (INCLUDING, BUT NOT LIMITED TO, PROCUREMENT OF SUBSTITUTE GOODS OR\n",
      "SERVICES; LOSS OF USE, DATA, OR PROFITS; OR BUSINESS INTERRUPTION) HOWEVER\n",
      "CAUSED AND ON ANY THEORY OF LIABILITY, WHETHER IN CONTRACT, STRICT LIABILITY,\n",
      "OR TORT (INCLUDING NEGLIGENCE OR OTHERWISE) ARISING IN ANY WAY OUT OF THE USE\n",
      "OF THIS SOFTWARE, EVEN IF ADVISED OF THE POSSIBILITY OF SUCH DAMAGE.\n",
      "Location: C:\\Users\\wisdo\\AppData\\Local\\Programs\\Python\\Python312\\Lib\\site-packages\n",
      "Requires: numpy, python-dateutil, pytz, tzdata\n",
      "Required-by: pydataset, seaborn\n"
     ]
    }
   ],
   "source": [
    "!pip show pandas"
   ]
  },
  {
   "cell_type": "code",
   "execution_count": 8,
   "metadata": {},
   "outputs": [
    {
     "name": "stdout",
     "output_type": "stream",
     "text": [
      "Requirement already satisfied: pandas in c:\\users\\wisdo\\appdata\\local\\programs\\python\\python312\\lib\\site-packages (2.2.2)\n",
      "Requirement already satisfied: numpy>=1.26.0 in c:\\users\\wisdo\\appdata\\local\\programs\\python\\python312\\lib\\site-packages (from pandas) (2.1.1)\n",
      "Requirement already satisfied: python-dateutil>=2.8.2 in c:\\users\\wisdo\\appdata\\roaming\\python\\python312\\site-packages (from pandas) (2.9.0.post0)\n",
      "Requirement already satisfied: pytz>=2020.1 in c:\\users\\wisdo\\appdata\\local\\programs\\python\\python312\\lib\\site-packages (from pandas) (2024.2)\n",
      "Requirement already satisfied: tzdata>=2022.7 in c:\\users\\wisdo\\appdata\\local\\programs\\python\\python312\\lib\\site-packages (from pandas) (2024.1)\n",
      "Requirement already satisfied: six>=1.5 in c:\\users\\wisdo\\appdata\\roaming\\python\\python312\\site-packages (from python-dateutil>=2.8.2->pandas) (1.16.0)\n"
     ]
    },
    {
     "name": "stderr",
     "output_type": "stream",
     "text": [
      "\n",
      "[notice] A new release of pip is available: 24.0 -> 24.2\n",
      "[notice] To update, run: python.exe -m pip install --upgrade pip\n"
     ]
    }
   ],
   "source": [
    "!pip install pandas"
   ]
  },
  {
   "cell_type": "code",
   "execution_count": 9,
   "metadata": {},
   "outputs": [
    {
     "name": "stdout",
     "output_type": "stream",
     "text": [
      "Name: numpy\n",
      "Version: 2.1.1\n",
      "Summary: Fundamental package for array computing in Python\n",
      "Home-page: https://numpy.org\n",
      "Author: Travis E. Oliphant et al.\n",
      "Author-email: \n",
      "License: Copyright (c) 2005-2024, NumPy Developers.\n",
      "All rights reserved.\n",
      "\n",
      "Redistribution and use in source and binary forms, with or without\n",
      "modification, are permitted provided that the following conditions are\n",
      "met:\n",
      "\n",
      "    * Redistributions of source code must retain the above copyright\n",
      "       notice, this list of conditions and the following disclaimer.\n",
      "\n",
      "    * Redistributions in binary form must reproduce the above\n",
      "       copyright notice, this list of conditions and the following\n",
      "       disclaimer in the documentation and/or other materials provided\n",
      "       with the distribution.\n",
      "\n",
      "    * Neither the name of the NumPy Developers nor the names of any\n",
      "       contributors may be used to endorse or promote products derived\n",
      "       from this software without specific prior written permission.\n",
      "\n",
      "THIS SOFTWARE IS PROVIDED BY THE COPYRIGHT HOLDERS AND CONTRIBUTORS\n",
      "\"AS IS\" AND ANY EXPRESS OR IMPLIED WARRANTIES, INCLUDING, BUT NOT\n",
      "LIMITED TO, THE IMPLIED WARRANTIES OF MERCHANTABILITY AND FITNESS FOR\n",
      "A PARTICULAR PURPOSE ARE DISCLAIMED. IN NO EVENT SHALL THE COPYRIGHT\n",
      "OWNER OR CONTRIBUTORS BE LIABLE FOR ANY DIRECT, INDIRECT, INCIDENTAL,\n",
      "SPECIAL, EXEMPLARY, OR CONSEQUENTIAL DAMAGES (INCLUDING, BUT NOT\n",
      "LIMITED TO, PROCUREMENT OF SUBSTITUTE GOODS OR SERVICES; LOSS OF USE,\n",
      "DATA, OR PROFITS; OR BUSINESS INTERRUPTION) HOWEVER CAUSED AND ON ANY\n",
      "THEORY OF LIABILITY, WHETHER IN CONTRACT, STRICT LIABILITY, OR TORT\n",
      "(INCLUDING NEGLIGENCE OR OTHERWISE) ARISING IN ANY WAY OUT OF THE USE\n",
      "OF THIS SOFTWARE, EVEN IF ADVISED OF THE POSSIBILITY OF SUCH DAMAGE.\n",
      "\n",
      "----\n",
      "\n",
      "The NumPy repository and source distributions bundle several libraries that are\n",
      "compatibly licensed.  We list these here.\n",
      "\n",
      "Name: lapack-lite\n",
      "Files: numpy/linalg/lapack_lite/*\n",
      "License: BSD-3-Clause\n",
      "  For details, see numpy/linalg/lapack_lite/LICENSE.txt\n",
      "\n",
      "Name: dragon4\n",
      "Files: numpy/_core/src/multiarray/dragon4.c\n",
      "License: MIT\n",
      "  For license text, see numpy/_core/src/multiarray/dragon4.c\n",
      "\n",
      "Name: libdivide\n",
      "Files: numpy/_core/include/numpy/libdivide/*\n",
      "License: Zlib\n",
      "  For license text, see numpy/_core/include/numpy/libdivide/LICENSE.txt\n",
      "\n",
      "\n",
      "Note that the following files are vendored in the repository and sdist but not\n",
      "installed in built numpy packages:\n",
      "\n",
      "Name: Meson\n",
      "Files: vendored-meson/meson/*\n",
      "License: Apache 2.0\n",
      "  For license text, see vendored-meson/meson/COPYING\n",
      "\n",
      "Name: spin\n",
      "Files: .spin/cmds.py\n",
      "License: BSD-3\n",
      "  For license text, see .spin/LICENSE\n",
      "\n",
      "----\n",
      "\n",
      "This binary distribution of NumPy also bundles the following software:\n",
      "\n",
      "\n",
      "Name: OpenBLAS\n",
      "Files: numpy.libs\\libscipy_openblas*.dll\n",
      "Description: bundled as a dynamically linked library\n",
      "Availability: https://github.com/OpenMathLib/OpenBLAS/\n",
      "License: BSD-3-Clause\n",
      "  Copyright (c) 2011-2014, The OpenBLAS Project\n",
      "  All rights reserved.\n",
      "\n",
      "  Redistribution and use in source and binary forms, with or without\n",
      "  modification, are permitted provided that the following conditions are\n",
      "  met:\n",
      "\n",
      "     1. Redistributions of source code must retain the above copyright\n",
      "        notice, this list of conditions and the following disclaimer.\n",
      "\n",
      "     2. Redistributions in binary form must reproduce the above copyright\n",
      "        notice, this list of conditions and the following disclaimer in\n",
      "        the documentation and/or other materials provided with the\n",
      "        distribution.\n",
      "     3. Neither the name of the OpenBLAS project nor the names of\n",
      "        its contributors may be used to endorse or promote products\n",
      "        derived from this software without specific prior written\n",
      "        permission.\n",
      "\n",
      "  THIS SOFTWARE IS PROVIDED BY THE COPYRIGHT HOLDERS AND CONTRIBUTORS \"AS IS\"\n",
      "  AND ANY EXPRESS OR IMPLIED WARRANTIES, INCLUDING, BUT NOT LIMITED TO, THE\n",
      "  IMPLIED WARRANTIES OF MERCHANTABILITY AND FITNESS FOR A PARTICULAR PURPOSE\n",
      "  ARE DISCLAIMED. IN NO EVENT SHALL THE COPYRIGHT OWNER OR CONTRIBUTORS BE\n",
      "  LIABLE FOR ANY DIRECT, INDIRECT, INCIDENTAL, SPECIAL, EXEMPLARY, OR CONSEQUENTIAL\n",
      "  DAMAGES (INCLUDING, BUT NOT LIMITED TO, PROCUREMENT OF SUBSTITUTE GOODS OR\n",
      "  SERVICES; LOSS OF USE, DATA, OR PROFITS; OR BUSINESS INTERRUPTION) HOWEVER\n",
      "  CAUSED AND ON ANY THEORY OF LIABILITY, WHETHER IN CONTRACT, STRICT LIABILITY,\n",
      "  OR TORT (INCLUDING NEGLIGENCE OR OTHERWISE) ARISING IN ANY WAY OUT OF THE\n",
      "  USE OF THIS SOFTWARE, EVEN IF ADVISED OF THE POSSIBILITY OF SUCH DAMAGE.\n",
      "\n",
      "\n",
      "Name: LAPACK\n",
      "Files: numpy.libs\\libscipy_openblas*.dll\n",
      "Description: bundled in OpenBLAS\n",
      "Availability: https://github.com/OpenMathLib/OpenBLAS/\n",
      "License: BSD-3-Clause-Attribution\n",
      "  Copyright (c) 1992-2013 The University of Tennessee and The University\n",
      "                          of Tennessee Research Foundation.  All rights\n",
      "                          reserved.\n",
      "  Copyright (c) 2000-2013 The University of California Berkeley. All\n",
      "                          rights reserved.\n",
      "  Copyright (c) 2006-2013 The University of Colorado Denver.  All rights\n",
      "                          reserved.\n",
      "\n",
      "  $COPYRIGHT$\n",
      "\n",
      "  Additional copyrights may follow\n",
      "\n",
      "  $HEADER$\n",
      "\n",
      "  Redistribution and use in source and binary forms, with or without\n",
      "  modification, are permitted provided that the following conditions are\n",
      "  met:\n",
      "\n",
      "  - Redistributions of source code must retain the above copyright\n",
      "    notice, this list of conditions and the following disclaimer.\n",
      "\n",
      "  - Redistributions in binary form must reproduce the above copyright\n",
      "    notice, this list of conditions and the following disclaimer listed\n",
      "    in this license in the documentation and/or other materials\n",
      "    provided with the distribution.\n",
      "\n",
      "  - Neither the name of the copyright holders nor the names of its\n",
      "    contributors may be used to endorse or promote products derived from\n",
      "    this software without specific prior written permission.\n",
      "\n",
      "  The copyright holders provide no reassurances that the source code\n",
      "  provided does not infringe any patent, copyright, or any other\n",
      "  intellectual property rights of third parties.  The copyright holders\n",
      "  disclaim any liability to any recipient for claims brought against\n",
      "  recipient by any third party for infringement of that parties\n",
      "  intellectual property rights.\n",
      "\n",
      "  THIS SOFTWARE IS PROVIDED BY THE COPYRIGHT HOLDERS AND CONTRIBUTORS\n",
      "  \"AS IS\" AND ANY EXPRESS OR IMPLIED WARRANTIES, INCLUDING, BUT NOT\n",
      "  LIMITED TO, THE IMPLIED WARRANTIES OF MERCHANTABILITY AND FITNESS FOR\n",
      "  A PARTICULAR PURPOSE ARE DISCLAIMED. IN NO EVENT SHALL THE COPYRIGHT\n",
      "  OWNER OR CONTRIBUTORS BE LIABLE FOR ANY DIRECT, INDIRECT, INCIDENTAL,\n",
      "  SPECIAL, EXEMPLARY, OR CONSEQUENTIAL DAMAGES (INCLUDING, BUT NOT\n",
      "  LIMITED TO, PROCUREMENT OF SUBSTITUTE GOODS OR SERVICES; LOSS OF USE,\n",
      "  DATA, OR PROFITS; OR BUSINESS INTERRUPTION) HOWEVER CAUSED AND ON ANY\n",
      "  THEORY OF LIABILITY, WHETHER IN CONTRACT, STRICT LIABILITY, OR TORT\n",
      "  (INCLUDING NEGLIGENCE OR OTHERWISE) ARISING IN ANY WAY OUT OF THE USE\n",
      "  OF THIS SOFTWARE, EVEN IF ADVISED OF THE POSSIBILITY OF SUCH DAMAGE.\n",
      "\n",
      "\n",
      "Name: GCC runtime library\n",
      "Files: numpy.libs\\libscipy_openblas*.dll\n",
      "Description: statically linked to files compiled with gcc\n",
      "Availability: https://gcc.gnu.org/git/?p=gcc.git;a=tree;f=libgfortran\n",
      "License: GPL-3.0-with-GCC-exception\n",
      "  Copyright (C) 2002-2017 Free Software Foundation, Inc.\n",
      "\n",
      "  Libgfortran is free software; you can redistribute it and/or modify\n",
      "  it under the terms of the GNU General Public License as published by\n",
      "  the Free Software Foundation; either version 3, or (at your option)\n",
      "  any later version.\n",
      "\n",
      "  Libgfortran is distributed in the hope that it will be useful,\n",
      "  but WITHOUT ANY WARRANTY; without even the implied warranty of\n",
      "  MERCHANTABILITY or FITNESS FOR A PARTICULAR PURPOSE.  See the\n",
      "  GNU General Public License for more details.\n",
      "\n",
      "  Under Section 7 of GPL version 3, you are granted additional\n",
      "  permissions described in the GCC Runtime Library Exception, version\n",
      "  3.1, as published by the Free Software Foundation.\n",
      "\n",
      "  You should have received a copy of the GNU General Public License and\n",
      "  a copy of the GCC Runtime Library Exception along with this program;\n",
      "  see the files COPYING3 and COPYING.RUNTIME respectively.  If not, see\n",
      "  <http://www.gnu.org/licenses/>.\n",
      "\n",
      "----\n",
      "\n",
      "Full text of license texts referred to above follows (that they are\n",
      "listed below does not necessarily imply the conditions apply to the\n",
      "present binary release):\n",
      "\n",
      "----\n",
      "\n",
      "GCC RUNTIME LIBRARY EXCEPTION\n",
      "\n",
      "Version 3.1, 31 March 2009\n",
      "\n",
      "Copyright (C) 2009 Free Software Foundation, Inc. <http://fsf.org/>\n",
      "\n",
      "Everyone is permitted to copy and distribute verbatim copies of this\n",
      "license document, but changing it is not allowed.\n",
      "\n",
      "This GCC Runtime Library Exception (\"Exception\") is an additional\n",
      "permission under section 7 of the GNU General Public License, version\n",
      "3 (\"GPLv3\"). It applies to a given file (the \"Runtime Library\") that\n",
      "bears a notice placed by the copyright holder of the file stating that\n",
      "the file is governed by GPLv3 along with this Exception.\n",
      "\n",
      "When you use GCC to compile a program, GCC may combine portions of\n",
      "certain GCC header files and runtime libraries with the compiled\n",
      "program. The purpose of this Exception is to allow compilation of\n",
      "non-GPL (including proprietary) programs to use, in this way, the\n",
      "header files and runtime libraries covered by this Exception.\n",
      "\n",
      "0. Definitions.\n",
      "\n",
      "A file is an \"Independent Module\" if it either requires the Runtime\n",
      "Library for execution after a Compilation Process, or makes use of an\n",
      "interface provided by the Runtime Library, but is not otherwise based\n",
      "on the Runtime Library.\n",
      "\n",
      "\"GCC\" means a version of the GNU Compiler Collection, with or without\n",
      "modifications, governed by version 3 (or a specified later version) of\n",
      "the GNU General Public License (GPL) with the option of using any\n",
      "subsequent versions published by the FSF.\n",
      "\n",
      "\"GPL-compatible Software\" is software whose conditions of propagation,\n",
      "modification and use would permit combination with GCC in accord with\n",
      "the license of GCC.\n",
      "\n",
      "\"Target Code\" refers to output from any compiler for a real or virtual\n",
      "target processor architecture, in executable form or suitable for\n",
      "input to an assembler, loader, linker and/or execution\n",
      "phase. Notwithstanding that, Target Code does not include data in any\n",
      "format that is used as a compiler intermediate representation, or used\n",
      "for producing a compiler intermediate representation.\n",
      "\n",
      "The \"Compilation Process\" transforms code entirely represented in\n",
      "non-intermediate languages designed for human-written code, and/or in\n",
      "Java Virtual Machine byte code, into Target Code. Thus, for example,\n",
      "use of source code generators and preprocessors need not be considered\n",
      "part of the Compilation Process, since the Compilation Process can be\n",
      "understood as starting with the output of the generators or\n",
      "preprocessors.\n",
      "\n",
      "A Compilation Process is \"Eligible\" if it is done using GCC, alone or\n",
      "with other GPL-compatible software, or if it is done without using any\n",
      "work based on GCC. For example, using non-GPL-compatible Software to\n",
      "optimize any GCC intermediate representations would not qualify as an\n",
      "Eligible Compilation Process.\n",
      "\n",
      "1. Grant of Additional Permission.\n",
      "\n",
      "You have permission to propagate a work of Target Code formed by\n",
      "combining the Runtime Library with Independent Modules, even if such\n",
      "propagation would otherwise violate the terms of GPLv3, provided that\n",
      "all Target Code was generated by Eligible Compilation Processes. You\n",
      "may then convey such a combination under terms of your choice,\n",
      "consistent with the licensing of the Independent Modules.\n",
      "\n",
      "2. No Weakening of GCC Copyleft.\n",
      "\n",
      "The availability of this Exception does not imply any general\n",
      "presumption that third-party software is unaffected by the copyleft\n",
      "requirements of the license of GCC.\n",
      "\n",
      "----\n",
      "\n",
      "                    GNU GENERAL PUBLIC LICENSE\n",
      "                       Version 3, 29 June 2007\n",
      "\n",
      " Copyright (C) 2007 Free Software Foundation, Inc. <http://fsf.org/>\n",
      " Everyone is permitted to copy and distribute verbatim copies\n",
      " of this license document, but changing it is not allowed.\n",
      "\n",
      "                            Preamble\n",
      "\n",
      "  The GNU General Public License is a free, copyleft license for\n",
      "software and other kinds of works.\n",
      "\n",
      "  The licenses for most software and other practical works are designed\n",
      "to take away your freedom to share and change the works.  By contrast,\n",
      "the GNU General Public License is intended to guarantee your freedom to\n",
      "share and change all versions of a program--to make sure it remains free\n",
      "software for all its users.  We, the Free Software Foundation, use the\n",
      "GNU General Public License for most of our software; it applies also to\n",
      "any other work released this way by its authors.  You can apply it to\n",
      "your programs, too.\n",
      "\n",
      "  When we speak of free software, we are referring to freedom, not\n",
      "price.  Our General Public Licenses are designed to make sure that you\n",
      "have the freedom to distribute copies of free software (and charge for\n",
      "them if you wish), that you receive source code or can get it if you\n",
      "want it, that you can change the software or use pieces of it in new\n",
      "free programs, and that you know you can do these things.\n",
      "\n",
      "  To protect your rights, we need to prevent others from denying you\n",
      "these rights or asking you to surrender the rights.  Therefore, you have\n",
      "certain responsibilities if you distribute copies of the software, or if\n",
      "you modify it: responsibilities to respect the freedom of others.\n",
      "\n",
      "  For example, if you distribute copies of such a program, whether\n",
      "gratis or for a fee, you must pass on to the recipients the same\n",
      "freedoms that you received.  You must make sure that they, too, receive\n",
      "or can get the source code.  And you must show them these terms so they\n",
      "know their rights.\n",
      "\n",
      "  Developers that use the GNU GPL protect your rights with two steps:\n",
      "(1) assert copyright on the software, and (2) offer you this License\n",
      "giving you legal permission to copy, distribute and/or modify it.\n",
      "\n",
      "  For the developers' and authors' protection, the GPL clearly explains\n",
      "that there is no warranty for this free software.  For both users' and\n",
      "authors' sake, the GPL requires that modified versions be marked as\n",
      "changed, so that their problems will not be attributed erroneously to\n",
      "authors of previous versions.\n",
      "\n",
      "  Some devices are designed to deny users access to install or run\n",
      "modified versions of the software inside them, although the manufacturer\n",
      "can do so.  This is fundamentally incompatible with the aim of\n",
      "protecting users' freedom to change the software.  The systematic\n",
      "pattern of such abuse occurs in the area of products for individuals to\n",
      "use, which is precisely where it is most unacceptable.  Therefore, we\n",
      "have designed this version of the GPL to prohibit the practice for those\n",
      "products.  If such problems arise substantially in other domains, we\n",
      "stand ready to extend this provision to those domains in future versions\n",
      "of the GPL, as needed to protect the freedom of users.\n",
      "\n",
      "  Finally, every program is threatened constantly by software patents.\n",
      "States should not allow patents to restrict development and use of\n",
      "software on general-purpose computers, but in those that do, we wish to\n",
      "avoid the special danger that patents applied to a free program could\n",
      "make it effectively proprietary.  To prevent this, the GPL assures that\n",
      "patents cannot be used to render the program non-free.\n",
      "\n",
      "  The precise terms and conditions for copying, distribution and\n",
      "modification follow.\n",
      "\n",
      "                       TERMS AND CONDITIONS\n",
      "\n",
      "  0. Definitions.\n",
      "\n",
      "  \"This License\" refers to version 3 of the GNU General Public License.\n",
      "\n",
      "  \"Copyright\" also means copyright-like laws that apply to other kinds of\n",
      "works, such as semiconductor masks.\n",
      "\n",
      "  \"The Program\" refers to any copyrightable work licensed under this\n",
      "License.  Each licensee is addressed as \"you\".  \"Licensees\" and\n",
      "\"recipients\" may be individuals or organizations.\n",
      "\n",
      "  To \"modify\" a work means to copy from or adapt all or part of the work\n",
      "in a fashion requiring copyright permission, other than the making of an\n",
      "exact copy.  The resulting work is called a \"modified version\" of the\n",
      "earlier work or a work \"based on\" the earlier work.\n",
      "\n",
      "  A \"covered work\" means either the unmodified Program or a work based\n",
      "on the Program.\n",
      "\n",
      "  To \"propagate\" a work means to do anything with it that, without\n",
      "permission, would make you directly or secondarily liable for\n",
      "infringement under applicable copyright law, except executing it on a\n",
      "computer or modifying a private copy.  Propagation includes copying,\n",
      "distribution (with or without modification), making available to the\n",
      "public, and in some countries other activities as well.\n",
      "\n",
      "  To \"convey\" a work means any kind of propagation that enables other\n",
      "parties to make or receive copies.  Mere interaction with a user through\n",
      "a computer network, with no transfer of a copy, is not conveying.\n",
      "\n",
      "  An interactive user interface displays \"Appropriate Legal Notices\"\n",
      "to the extent that it includes a convenient and prominently visible\n",
      "feature that (1) displays an appropriate copyright notice, and (2)\n",
      "tells the user that there is no warranty for the work (except to the\n",
      "extent that warranties are provided), that licensees may convey the\n",
      "work under this License, and how to view a copy of this License.  If\n",
      "the interface presents a list of user commands or options, such as a\n",
      "menu, a prominent item in the list meets this criterion.\n",
      "\n",
      "  1. Source Code.\n",
      "\n",
      "  The \"source code\" for a work means the preferred form of the work\n",
      "for making modifications to it.  \"Object code\" means any non-source\n",
      "form of a work.\n",
      "\n",
      "  A \"Standard Interface\" means an interface that either is an official\n",
      "standard defined by a recognized standards body, or, in the case of\n",
      "interfaces specified for a particular programming language, one that\n",
      "is widely used among developers working in that language.\n",
      "\n",
      "  The \"System Libraries\" of an executable work include anything, other\n",
      "than the work as a whole, that (a) is included in the normal form of\n",
      "packaging a Major Component, but which is not part of that Major\n",
      "Component, and (b) serves only to enable use of the work with that\n",
      "Major Component, or to implement a Standard Interface for which an\n",
      "implementation is available to the public in source code form.  A\n",
      "\"Major Component\", in this context, means a major essential component\n",
      "(kernel, window system, and so on) of the specific operating system\n",
      "(if any) on which the executable work runs, or a compiler used to\n",
      "produce the work, or an object code interpreter used to run it.\n",
      "\n",
      "  The \"Corresponding Source\" for a work in object code form means all\n",
      "the source code needed to generate, install, and (for an executable\n",
      "work) run the object code and to modify the work, including scripts to\n",
      "control those activities.  However, it does not include the work's\n",
      "System Libraries, or general-purpose tools or generally available free\n",
      "programs which are used unmodified in performing those activities but\n",
      "which are not part of the work.  For example, Corresponding Source\n",
      "includes interface definition files associated with source files for\n",
      "the work, and the source code for shared libraries and dynamically\n",
      "linked subprograms that the work is specifically designed to require,\n",
      "such as by intimate data communication or control flow between those\n",
      "subprograms and other parts of the work.\n",
      "\n",
      "  The Corresponding Source need not include anything that users\n",
      "can regenerate automatically from other parts of the Corresponding\n",
      "Source.\n",
      "\n",
      "  The Corresponding Source for a work in source code form is that\n",
      "same work.\n",
      "\n",
      "  2. Basic Permissions.\n",
      "\n",
      "  All rights granted under this License are granted for the term of\n",
      "copyright on the Program, and are irrevocable provided the stated\n",
      "conditions are met.  This License explicitly affirms your unlimited\n",
      "permission to run the unmodified Program.  The output from running a\n",
      "covered work is covered by this License only if the output, given its\n",
      "content, constitutes a covered work.  This License acknowledges your\n",
      "rights of fair use or other equivalent, as provided by copyright law.\n",
      "\n",
      "  You may make, run and propagate covered works that you do not\n",
      "convey, without conditions so long as your license otherwise remains\n",
      "in force.  You may convey covered works to others for the sole purpose\n",
      "of having them make modifications exclusively for you, or provide you\n",
      "with facilities for running those works, provided that you comply with\n",
      "the terms of this License in conveying all material for which you do\n",
      "not control copyright.  Those thus making or running the covered works\n",
      "for you must do so exclusively on your behalf, under your direction\n",
      "and control, on terms that prohibit them from making any copies of\n",
      "your copyrighted material outside their relationship with you.\n",
      "\n",
      "  Conveying under any other circumstances is permitted solely under\n",
      "the conditions stated below.  Sublicensing is not allowed; section 10\n",
      "makes it unnecessary.\n",
      "\n",
      "  3. Protecting Users' Legal Rights From Anti-Circumvention Law.\n",
      "\n",
      "  No covered work shall be deemed part of an effective technological\n",
      "measure under any applicable law fulfilling obligations under article\n",
      "11 of the WIPO copyright treaty adopted on 20 December 1996, or\n",
      "similar laws prohibiting or restricting circumvention of such\n",
      "measures.\n",
      "\n",
      "  When you convey a covered work, you waive any legal power to forbid\n",
      "circumvention of technological measures to the extent such circumvention\n",
      "is effected by exercising rights under this License with respect to\n",
      "the covered work, and you disclaim any intention to limit operation or\n",
      "modification of the work as a means of enforcing, against the work's\n",
      "users, your or third parties' legal rights to forbid circumvention of\n",
      "technological measures.\n",
      "\n",
      "  4. Conveying Verbatim Copies.\n",
      "\n",
      "  You may convey verbatim copies of the Program's source code as you\n",
      "receive it, in any medium, provided that you conspicuously and\n",
      "appropriately publish on each copy an appropriate copyright notice;\n",
      "keep intact all notices stating that this License and any\n",
      "non-permissive terms added in accord with section 7 apply to the code;\n",
      "keep intact all notices of the absence of any warranty; and give all\n",
      "recipients a copy of this License along with the Program.\n",
      "\n",
      "  You may charge any price or no price for each copy that you convey,\n",
      "and you may offer support or warranty protection for a fee.\n",
      "\n",
      "  5. Conveying Modified Source Versions.\n",
      "\n",
      "  You may convey a work based on the Program, or the modifications to\n",
      "produce it from the Program, in the form of source code under the\n",
      "terms of section 4, provided that you also meet all of these conditions:\n",
      "\n",
      "    a) The work must carry prominent notices stating that you modified\n",
      "    it, and giving a relevant date.\n",
      "\n",
      "    b) The work must carry prominent notices stating that it is\n",
      "    released under this License and any conditions added under section\n",
      "    7.  This requirement modifies the requirement in section 4 to\n",
      "    \"keep intact all notices\".\n",
      "\n",
      "    c) You must license the entire work, as a whole, under this\n",
      "    License to anyone who comes into possession of a copy.  This\n",
      "    License will therefore apply, along with any applicable section 7\n",
      "    additional terms, to the whole of the work, and all its parts,\n",
      "    regardless of how they are packaged.  This License gives no\n",
      "    permission to license the work in any other way, but it does not\n",
      "    invalidate such permission if you have separately received it.\n",
      "\n",
      "    d) If the work has interactive user interfaces, each must display\n",
      "    Appropriate Legal Notices; however, if the Program has interactive\n",
      "    interfaces that do not display Appropriate Legal Notices, your\n",
      "    work need not make them do so.\n",
      "\n",
      "  A compilation of a covered work with other separate and independent\n",
      "works, which are not by their nature extensions of the covered work,\n",
      "and which are not combined with it such as to form a larger program,\n",
      "in or on a volume of a storage or distribution medium, is called an\n",
      "\"aggregate\" if the compilation and its resulting copyright are not\n",
      "used to limit the access or legal rights of the compilation's users\n",
      "beyond what the individual works permit.  Inclusion of a covered work\n",
      "in an aggregate does not cause this License to apply to the other\n",
      "parts of the aggregate.\n",
      "\n",
      "  6. Conveying Non-Source Forms.\n",
      "\n",
      "  You may convey a covered work in object code form under the terms\n",
      "of sections 4 and 5, provided that you also convey the\n",
      "machine-readable Corresponding Source under the terms of this License,\n",
      "in one of these ways:\n",
      "\n",
      "    a) Convey the object code in, or embodied in, a physical product\n",
      "    (including a physical distribution medium), accompanied by the\n",
      "    Corresponding Source fixed on a durable physical medium\n",
      "    customarily used for software interchange.\n",
      "\n",
      "    b) Convey the object code in, or embodied in, a physical product\n",
      "    (including a physical distribution medium), accompanied by a\n",
      "    written offer, valid for at least three years and valid for as\n",
      "    long as you offer spare parts or customer support for that product\n",
      "    model, to give anyone who possesses the object code either (1) a\n",
      "    copy of the Corresponding Source for all the software in the\n",
      "    product that is covered by this License, on a durable physical\n",
      "    medium customarily used for software interchange, for a price no\n",
      "    more than your reasonable cost of physically performing this\n",
      "    conveying of source, or (2) access to copy the\n",
      "    Corresponding Source from a network server at no charge.\n",
      "\n",
      "    c) Convey individual copies of the object code with a copy of the\n",
      "    written offer to provide the Corresponding Source.  This\n",
      "    alternative is allowed only occasionally and noncommercially, and\n",
      "    only if you received the object code with such an offer, in accord\n",
      "    with subsection 6b.\n",
      "\n",
      "    d) Convey the object code by offering access from a designated\n",
      "    place (gratis or for a charge), and offer equivalent access to the\n",
      "    Corresponding Source in the same way through the same place at no\n",
      "    further charge.  You need not require recipients to copy the\n",
      "    Corresponding Source along with the object code.  If the place to\n",
      "    copy the object code is a network server, the Corresponding Source\n",
      "    may be on a different server (operated by you or a third party)\n",
      "    that supports equivalent copying facilities, provided you maintain\n",
      "    clear directions next to the object code saying where to find the\n",
      "    Corresponding Source.  Regardless of what server hosts the\n",
      "    Corresponding Source, you remain obligated to ensure that it is\n",
      "    available for as long as needed to satisfy these requirements.\n",
      "\n",
      "    e) Convey the object code using peer-to-peer transmission, provided\n",
      "    you inform other peers where the object code and Corresponding\n",
      "    Source of the work are being offered to the general public at no\n",
      "    charge under subsection 6d.\n",
      "\n",
      "  A separable portion of the object code, whose source code is excluded\n",
      "from the Corresponding Source as a System Library, need not be\n",
      "included in conveying the object code work.\n",
      "\n",
      "  A \"User Product\" is either (1) a \"consumer product\", which means any\n",
      "tangible personal property which is normally used for personal, family,\n",
      "or household purposes, or (2) anything designed or sold for incorporation\n",
      "into a dwelling.  In determining whether a product is a consumer product,\n",
      "doubtful cases shall be resolved in favor of coverage.  For a particular\n",
      "product received by a particular user, \"normally used\" refers to a\n",
      "typical or common use of that class of product, regardless of the status\n",
      "of the particular user or of the way in which the particular user\n",
      "actually uses, or expects or is expected to use, the product.  A product\n",
      "is a consumer product regardless of whether the product has substantial\n",
      "commercial, industrial or non-consumer uses, unless such uses represent\n",
      "the only significant mode of use of the product.\n",
      "\n",
      "  \"Installation Information\" for a User Product means any methods,\n",
      "procedures, authorization keys, or other information required to install\n",
      "and execute modified versions of a covered work in that User Product from\n",
      "a modified version of its Corresponding Source.  The information must\n",
      "suffice to ensure that the continued functioning of the modified object\n",
      "code is in no case prevented or interfered with solely because\n",
      "modification has been made.\n",
      "\n",
      "  If you convey an object code work under this section in, or with, or\n",
      "specifically for use in, a User Product, and the conveying occurs as\n",
      "part of a transaction in which the right of possession and use of the\n",
      "User Product is transferred to the recipient in perpetuity or for a\n",
      "fixed term (regardless of how the transaction is characterized), the\n",
      "Corresponding Source conveyed under this section must be accompanied\n",
      "by the Installation Information.  But this requirement does not apply\n",
      "if neither you nor any third party retains the ability to install\n",
      "modified object code on the User Product (for example, the work has\n",
      "been installed in ROM).\n",
      "\n",
      "  The requirement to provide Installation Information does not include a\n",
      "requirement to continue to provide support service, warranty, or updates\n",
      "for a work that has been modified or installed by the recipient, or for\n",
      "the User Product in which it has been modified or installed.  Access to a\n",
      "network may be denied when the modification itself materially and\n",
      "adversely affects the operation of the network or violates the rules and\n",
      "protocols for communication across the network.\n",
      "\n",
      "  Corresponding Source conveyed, and Installation Information provided,\n",
      "in accord with this section must be in a format that is publicly\n",
      "documented (and with an implementation available to the public in\n",
      "source code form), and must require no special password or key for\n",
      "unpacking, reading or copying.\n",
      "\n",
      "  7. Additional Terms.\n",
      "\n",
      "  \"Additional permissions\" are terms that supplement the terms of this\n",
      "License by making exceptions from one or more of its conditions.\n",
      "Additional permissions that are applicable to the entire Program shall\n",
      "be treated as though they were included in this License, to the extent\n",
      "that they are valid under applicable law.  If additional permissions\n",
      "apply only to part of the Program, that part may be used separately\n",
      "under those permissions, but the entire Program remains governed by\n",
      "this License without regard to the additional permissions.\n",
      "\n",
      "  When you convey a copy of a covered work, you may at your option\n",
      "remove any additional permissions from that copy, or from any part of\n",
      "it.  (Additional permissions may be written to require their own\n",
      "removal in certain cases when you modify the work.)  You may place\n",
      "additional permissions on material, added by you to a covered work,\n",
      "for which you have or can give appropriate copyright permission.\n",
      "\n",
      "  Notwithstanding any other provision of this License, for material you\n",
      "add to a covered work, you may (if authorized by the copyright holders of\n",
      "that material) supplement the terms of this License with terms:\n",
      "\n",
      "    a) Disclaiming warranty or limiting liability differently from the\n",
      "    terms of sections 15 and 16 of this License; or\n",
      "\n",
      "    b) Requiring preservation of specified reasonable legal notices or\n",
      "    author attributions in that material or in the Appropriate Legal\n",
      "    Notices displayed by works containing it; or\n",
      "\n",
      "    c) Prohibiting misrepresentation of the origin of that material, or\n",
      "    requiring that modified versions of such material be marked in\n",
      "    reasonable ways as different from the original version; or\n",
      "\n",
      "    d) Limiting the use for publicity purposes of names of licensors or\n",
      "    authors of the material; or\n",
      "\n",
      "    e) Declining to grant rights under trademark law for use of some\n",
      "    trade names, trademarks, or service marks; or\n",
      "\n",
      "    f) Requiring indemnification of licensors and authors of that\n",
      "    material by anyone who conveys the material (or modified versions of\n",
      "    it) with contractual assumptions of liability to the recipient, for\n",
      "    any liability that these contractual assumptions directly impose on\n",
      "    those licensors and authors.\n",
      "\n",
      "  All other non-permissive additional terms are considered \"further\n",
      "restrictions\" within the meaning of section 10.  If the Program as you\n",
      "received it, or any part of it, contains a notice stating that it is\n",
      "governed by this License along with a term that is a further\n",
      "restriction, you may remove that term.  If a license document contains\n",
      "a further restriction but permits relicensing or conveying under this\n",
      "License, you may add to a covered work material governed by the terms\n",
      "of that license document, provided that the further restriction does\n",
      "not survive such relicensing or conveying.\n",
      "\n",
      "  If you add terms to a covered work in accord with this section, you\n",
      "must place, in the relevant source files, a statement of the\n",
      "additional terms that apply to those files, or a notice indicating\n",
      "where to find the applicable terms.\n",
      "\n",
      "  Additional terms, permissive or non-permissive, may be stated in the\n",
      "form of a separately written license, or stated as exceptions;\n",
      "the above requirements apply either way.\n",
      "\n",
      "  8. Termination.\n",
      "\n",
      "  You may not propagate or modify a covered work except as expressly\n",
      "provided under this License.  Any attempt otherwise to propagate or\n",
      "modify it is void, and will automatically terminate your rights under\n",
      "this License (including any patent licenses granted under the third\n",
      "paragraph of section 11).\n",
      "\n",
      "  However, if you cease all violation of this License, then your\n",
      "license from a particular copyright holder is reinstated (a)\n",
      "provisionally, unless and until the copyright holder explicitly and\n",
      "finally terminates your license, and (b) permanently, if the copyright\n",
      "holder fails to notify you of the violation by some reasonable means\n",
      "prior to 60 days after the cessation.\n",
      "\n",
      "  Moreover, your license from a particular copyright holder is\n",
      "reinstated permanently if the copyright holder notifies you of the\n",
      "violation by some reasonable means, this is the first time you have\n",
      "received notice of violation of this License (for any work) from that\n",
      "copyright holder, and you cure the violation prior to 30 days after\n",
      "your receipt of the notice.\n",
      "\n",
      "  Termination of your rights under this section does not terminate the\n",
      "licenses of parties who have received copies or rights from you under\n",
      "this License.  If your rights have been terminated and not permanently\n",
      "reinstated, you do not qualify to receive new licenses for the same\n",
      "material under section 10.\n",
      "\n",
      "  9. Acceptance Not Required for Having Copies.\n",
      "\n",
      "  You are not required to accept this License in order to receive or\n",
      "run a copy of the Program.  Ancillary propagation of a covered work\n",
      "occurring solely as a consequence of using peer-to-peer transmission\n",
      "to receive a copy likewise does not require acceptance.  However,\n",
      "nothing other than this License grants you permission to propagate or\n",
      "modify any covered work.  These actions infringe copyright if you do\n",
      "not accept this License.  Therefore, by modifying or propagating a\n",
      "covered work, you indicate your acceptance of this License to do so.\n",
      "\n",
      "  10. Automatic Licensing of Downstream Recipients.\n",
      "\n",
      "  Each time you convey a covered work, the recipient automatically\n",
      "receives a license from the original licensors, to run, modify and\n",
      "propagate that work, subject to this License.  You are not responsible\n",
      "for enforcing compliance by third parties with this License.\n",
      "\n",
      "  An \"entity transaction\" is a transaction transferring control of an\n",
      "organization, or substantially all assets of one, or subdividing an\n",
      "organization, or merging organizations.  If propagation of a covered\n",
      "work results from an entity transaction, each party to that\n",
      "transaction who receives a copy of the work also receives whatever\n",
      "licenses to the work the party's predecessor in interest had or could\n",
      "give under the previous paragraph, plus a right to possession of the\n",
      "Corresponding Source of the work from the predecessor in interest, if\n",
      "the predecessor has it or can get it with reasonable efforts.\n",
      "\n",
      "  You may not impose any further restrictions on the exercise of the\n",
      "rights granted or affirmed under this License.  For example, you may\n",
      "not impose a license fee, royalty, or other charge for exercise of\n",
      "rights granted under this License, and you may not initiate litigation\n",
      "(including a cross-claim or counterclaim in a lawsuit) alleging that\n",
      "any patent claim is infringed by making, using, selling, offering for\n",
      "sale, or importing the Program or any portion of it.\n",
      "\n",
      "  11. Patents.\n",
      "\n",
      "  A \"contributor\" is a copyright holder who authorizes use under this\n",
      "License of the Program or a work on which the Program is based.  The\n",
      "work thus licensed is called the contributor's \"contributor version\".\n",
      "\n",
      "  A contributor's \"essential patent claims\" are all patent claims\n",
      "owned or controlled by the contributor, whether already acquired or\n",
      "hereafter acquired, that would be infringed by some manner, permitted\n",
      "by this License, of making, using, or selling its contributor version,\n",
      "but do not include claims that would be infringed only as a\n",
      "consequence of further modification of the contributor version.  For\n",
      "purposes of this definition, \"control\" includes the right to grant\n",
      "patent sublicenses in a manner consistent with the requirements of\n",
      "this License.\n",
      "\n",
      "  Each contributor grants you a non-exclusive, worldwide, royalty-free\n",
      "patent license under the contributor's essential patent claims, to\n",
      "make, use, sell, offer for sale, import and otherwise run, modify and\n",
      "propagate the contents of its contributor version.\n",
      "\n",
      "  In the following three paragraphs, a \"patent license\" is any express\n",
      "agreement or commitment, however denominated, not to enforce a patent\n",
      "(such as an express permission to practice a patent or covenant not to\n",
      "sue for patent infringement).  To \"grant\" such a patent license to a\n",
      "party means to make such an agreement or commitment not to enforce a\n",
      "patent against the party.\n",
      "\n",
      "  If you convey a covered work, knowingly relying on a patent license,\n",
      "and the Corresponding Source of the work is not available for anyone\n",
      "to copy, free of charge and under the terms of this License, through a\n",
      "publicly available network server or other readily accessible means,\n",
      "then you must either (1) cause the Corresponding Source to be so\n",
      "available, or (2) arrange to deprive yourself of the benefit of the\n",
      "patent license for this particular work, or (3) arrange, in a manner\n",
      "consistent with the requirements of this License, to extend the patent\n",
      "license to downstream recipients.  \"Knowingly relying\" means you have\n",
      "actual knowledge that, but for the patent license, your conveying the\n",
      "covered work in a country, or your recipient's use of the covered work\n",
      "in a country, would infringe one or more identifiable patents in that\n",
      "country that you have reason to believe are valid.\n",
      "\n",
      "  If, pursuant to or in connection with a single transaction or\n",
      "arrangement, you convey, or propagate by procuring conveyance of, a\n",
      "covered work, and grant a patent license to some of the parties\n",
      "receiving the covered work authorizing them to use, propagate, modify\n",
      "or convey a specific copy of the covered work, then the patent license\n",
      "you grant is automatically extended to all recipients of the covered\n",
      "work and works based on it.\n",
      "\n",
      "  A patent license is \"discriminatory\" if it does not include within\n",
      "the scope of its coverage, prohibits the exercise of, or is\n",
      "conditioned on the non-exercise of one or more of the rights that are\n",
      "specifically granted under this License.  You may not convey a covered\n",
      "work if you are a party to an arrangement with a third party that is\n",
      "in the business of distributing software, under which you make payment\n",
      "to the third party based on the extent of your activity of conveying\n",
      "the work, and under which the third party grants, to any of the\n",
      "parties who would receive the covered work from you, a discriminatory\n",
      "patent license (a) in connection with copies of the covered work\n",
      "conveyed by you (or copies made from those copies), or (b) primarily\n",
      "for and in connection with specific products or compilations that\n",
      "contain the covered work, unless you entered into that arrangement,\n",
      "or that patent license was granted, prior to 28 March 2007.\n",
      "\n",
      "  Nothing in this License shall be construed as excluding or limiting\n",
      "any implied license or other defenses to infringement that may\n",
      "otherwise be available to you under applicable patent law.\n",
      "\n",
      "  12. No Surrender of Others' Freedom.\n",
      "\n",
      "  If conditions are imposed on you (whether by court order, agreement or\n",
      "otherwise) that contradict the conditions of this License, they do not\n",
      "excuse you from the conditions of this License.  If you cannot convey a\n",
      "covered work so as to satisfy simultaneously your obligations under this\n",
      "License and any other pertinent obligations, then as a consequence you may\n",
      "not convey it at all.  For example, if you agree to terms that obligate you\n",
      "to collect a royalty for further conveying from those to whom you convey\n",
      "the Program, the only way you could satisfy both those terms and this\n",
      "License would be to refrain entirely from conveying the Program.\n",
      "\n",
      "  13. Use with the GNU Affero General Public License.\n",
      "\n",
      "  Notwithstanding any other provision of this License, you have\n",
      "permission to link or combine any covered work with a work licensed\n",
      "under version 3 of the GNU Affero General Public License into a single\n",
      "combined work, and to convey the resulting work.  The terms of this\n",
      "License will continue to apply to the part which is the covered work,\n",
      "but the special requirements of the GNU Affero General Public License,\n",
      "section 13, concerning interaction through a network will apply to the\n",
      "combination as such.\n",
      "\n",
      "  14. Revised Versions of this License.\n",
      "\n",
      "  The Free Software Foundation may publish revised and/or new versions of\n",
      "the GNU General Public License from time to time.  Such new versions will\n",
      "be similar in spirit to the present version, but may differ in detail to\n",
      "address new problems or concerns.\n",
      "\n",
      "  Each version is given a distinguishing version number.  If the\n",
      "Program specifies that a certain numbered version of the GNU General\n",
      "Public License \"or any later version\" applies to it, you have the\n",
      "option of following the terms and conditions either of that numbered\n",
      "version or of any later version published by the Free Software\n",
      "Foundation.  If the Program does not specify a version number of the\n",
      "GNU General Public License, you may choose any version ever published\n",
      "by the Free Software Foundation.\n",
      "\n",
      "  If the Program specifies that a proxy can decide which future\n",
      "versions of the GNU General Public License can be used, that proxy's\n",
      "public statement of acceptance of a version permanently authorizes you\n",
      "to choose that version for the Program.\n",
      "\n",
      "  Later license versions may give you additional or different\n",
      "permissions.  However, no additional obligations are imposed on any\n",
      "author or copyright holder as a result of your choosing to follow a\n",
      "later version.\n",
      "\n",
      "  15. Disclaimer of Warranty.\n",
      "\n",
      "  THERE IS NO WARRANTY FOR THE PROGRAM, TO THE EXTENT PERMITTED BY\n",
      "APPLICABLE LAW.  EXCEPT WHEN OTHERWISE STATED IN WRITING THE COPYRIGHT\n",
      "HOLDERS AND/OR OTHER PARTIES PROVIDE THE PROGRAM \"AS IS\" WITHOUT WARRANTY\n",
      "OF ANY KIND, EITHER EXPRESSED OR IMPLIED, INCLUDING, BUT NOT LIMITED TO,\n",
      "THE IMPLIED WARRANTIES OF MERCHANTABILITY AND FITNESS FOR A PARTICULAR\n",
      "PURPOSE.  THE ENTIRE RISK AS TO THE QUALITY AND PERFORMANCE OF THE PROGRAM\n",
      "IS WITH YOU.  SHOULD THE PROGRAM PROVE DEFECTIVE, YOU ASSUME THE COST OF\n",
      "ALL NECESSARY SERVICING, REPAIR OR CORRECTION.\n",
      "\n",
      "  16. Limitation of Liability.\n",
      "\n",
      "  IN NO EVENT UNLESS REQUIRED BY APPLICABLE LAW OR AGREED TO IN WRITING\n",
      "WILL ANY COPYRIGHT HOLDER, OR ANY OTHER PARTY WHO MODIFIES AND/OR CONVEYS\n",
      "THE PROGRAM AS PERMITTED ABOVE, BE LIABLE TO YOU FOR DAMAGES, INCLUDING ANY\n",
      "GENERAL, SPECIAL, INCIDENTAL OR CONSEQUENTIAL DAMAGES ARISING OUT OF THE\n",
      "USE OR INABILITY TO USE THE PROGRAM (INCLUDING BUT NOT LIMITED TO LOSS OF\n",
      "DATA OR DATA BEING RENDERED INACCURATE OR LOSSES SUSTAINED BY YOU OR THIRD\n",
      "PARTIES OR A FAILURE OF THE PROGRAM TO OPERATE WITH ANY OTHER PROGRAMS),\n",
      "EVEN IF SUCH HOLDER OR OTHER PARTY HAS BEEN ADVISED OF THE POSSIBILITY OF\n",
      "SUCH DAMAGES.\n",
      "\n",
      "  17. Interpretation of Sections 15 and 16.\n",
      "\n",
      "  If the disclaimer of warranty and limitation of liability provided\n",
      "above cannot be given local legal effect according to their terms,\n",
      "reviewing courts shall apply local law that most closely approximates\n",
      "an absolute waiver of all civil liability in connection with the\n",
      "Program, unless a warranty or assumption of liability accompanies a\n",
      "copy of the Program in return for a fee.\n",
      "\n",
      "                     END OF TERMS AND CONDITIONS\n",
      "\n",
      "            How to Apply These Terms to Your New Programs\n",
      "\n",
      "  If you develop a new program, and you want it to be of the greatest\n",
      "possible use to the public, the best way to achieve this is to make it\n",
      "free software which everyone can redistribute and change under these terms.\n",
      "\n",
      "  To do so, attach the following notices to the program.  It is safest\n",
      "to attach them to the start of each source file to most effectively\n",
      "state the exclusion of warranty; and each file should have at least\n",
      "the \"copyright\" line and a pointer to where the full notice is found.\n",
      "\n",
      "    <one line to give the program's name and a brief idea of what it does.>\n",
      "    Copyright (C) <year>  <name of author>\n",
      "\n",
      "    This program is free software: you can redistribute it and/or modify\n",
      "    it under the terms of the GNU General Public License as published by\n",
      "    the Free Software Foundation, either version 3 of the License, or\n",
      "    (at your option) any later version.\n",
      "\n",
      "    This program is distributed in the hope that it will be useful,\n",
      "    but WITHOUT ANY WARRANTY; without even the implied warranty of\n",
      "    MERCHANTABILITY or FITNESS FOR A PARTICULAR PURPOSE.  See the\n",
      "    GNU General Public License for more details.\n",
      "\n",
      "    You should have received a copy of the GNU General Public License\n",
      "    along with this program.  If not, see <http://www.gnu.org/licenses/>.\n",
      "\n",
      "Also add information on how to contact you by electronic and paper mail.\n",
      "\n",
      "  If the program does terminal interaction, make it output a short\n",
      "notice like this when it starts in an interactive mode:\n",
      "\n",
      "    <program>  Copyright (C) <year>  <name of author>\n",
      "    This program comes with ABSOLUTELY NO WARRANTY; for details type `show w'.\n",
      "    This is free software, and you are welcome to redistribute it\n",
      "    under certain conditions; type `show c' for details.\n",
      "\n",
      "The hypothetical commands `show w' and `show c' should show the appropriate\n",
      "parts of the General Public License.  Of course, your program's commands\n",
      "might be different; for a GUI interface, you would use an \"about box\".\n",
      "\n",
      "  You should also get your employer (if you work as a programmer) or school,\n",
      "if any, to sign a \"copyright disclaimer\" for the program, if necessary.\n",
      "For more information on this, and how to apply and follow the GNU GPL, see\n",
      "<http://www.gnu.org/licenses/>.\n",
      "\n",
      "  The GNU General Public License does not permit incorporating your program\n",
      "into proprietary programs.  If your program is a subroutine library, you\n",
      "may consider it more useful to permit linking proprietary applications with\n",
      "the library.  If this is what you want to do, use the GNU Lesser General\n",
      "Public License instead of this License.  But first, please read\n",
      "<http://www.gnu.org/philosophy/why-not-lgpl.html>.\n",
      "Location: C:\\Users\\wisdo\\AppData\\Local\\Programs\\Python\\Python312\\Lib\\site-packages\n",
      "Requires: \n",
      "Required-by: contourpy, matplotlib, pandas, seaborn\n"
     ]
    }
   ],
   "source": [
    "!pip show numpy"
   ]
  },
  {
   "cell_type": "code",
   "execution_count": 10,
   "metadata": {},
   "outputs": [
    {
     "name": "stderr",
     "output_type": "stream",
     "text": [
      "WARNING: Package(s) not found: matplotilib\n"
     ]
    },
    {
     "name": "stdout",
     "output_type": "stream",
     "text": [
      "Name: seaborn\n",
      "Version: 0.13.2\n",
      "Summary: Statistical data visualization\n",
      "Home-page: \n",
      "Author: \n",
      "Author-email: Michael Waskom <mwaskom@gmail.com>\n",
      "License: \n",
      "Location: C:\\Users\\wisdo\\AppData\\Local\\Programs\\Python\\Python312\\Lib\\site-packages\n",
      "Requires: matplotlib, numpy, pandas\n",
      "Required-by: \n",
      "---\n",
      "Name: pydataset\n",
      "Version: 0.2.0\n",
      "Summary: Provides instant access to many popular datasets right from Python (in dataframe structure).\n",
      "Home-page: https://github.com/iamaziz/PyDataset\n",
      "Author: Aziz Alto\n",
      "Author-email: iamaziz.alto@gmail.com\n",
      "License: MIT\n",
      "Location: C:\\Users\\wisdo\\AppData\\Local\\Programs\\Python\\Python312\\Lib\\site-packages\n",
      "Requires: pandas\n",
      "Required-by: \n"
     ]
    }
   ],
   "source": [
    "!pip show seaborn matplotilib pydataset"
   ]
  },
  {
   "cell_type": "code",
   "execution_count": 12,
   "metadata": {},
   "outputs": [
    {
     "name": "stdout",
     "output_type": "stream",
     "text": [
      "Requirement already satisfied: seaborn in c:\\users\\wisdo\\appdata\\local\\programs\\python\\python312\\lib\\site-packages (0.13.2)\n",
      "Requirement already satisfied: pydataset in c:\\users\\wisdo\\appdata\\local\\programs\\python\\python312\\lib\\site-packages (0.2.0)\n",
      "Requirement already satisfied: numpy!=1.24.0,>=1.20 in c:\\users\\wisdo\\appdata\\local\\programs\\python\\python312\\lib\\site-packages (from seaborn) (2.1.1)\n",
      "Requirement already satisfied: pandas>=1.2 in c:\\users\\wisdo\\appdata\\local\\programs\\python\\python312\\lib\\site-packages (from seaborn) (2.2.2)\n",
      "Requirement already satisfied: matplotlib!=3.6.1,>=3.4 in c:\\users\\wisdo\\appdata\\local\\programs\\python\\python312\\lib\\site-packages (from seaborn) (3.9.2)\n",
      "Requirement already satisfied: contourpy>=1.0.1 in c:\\users\\wisdo\\appdata\\local\\programs\\python\\python312\\lib\\site-packages (from matplotlib!=3.6.1,>=3.4->seaborn) (1.3.0)\n",
      "Requirement already satisfied: cycler>=0.10 in c:\\users\\wisdo\\appdata\\local\\programs\\python\\python312\\lib\\site-packages (from matplotlib!=3.6.1,>=3.4->seaborn) (0.12.1)\n",
      "Requirement already satisfied: fonttools>=4.22.0 in c:\\users\\wisdo\\appdata\\local\\programs\\python\\python312\\lib\\site-packages (from matplotlib!=3.6.1,>=3.4->seaborn) (4.53.1)\n",
      "Requirement already satisfied: kiwisolver>=1.3.1 in c:\\users\\wisdo\\appdata\\local\\programs\\python\\python312\\lib\\site-packages (from matplotlib!=3.6.1,>=3.4->seaborn) (1.4.7)\n",
      "Requirement already satisfied: packaging>=20.0 in c:\\users\\wisdo\\appdata\\roaming\\python\\python312\\site-packages (from matplotlib!=3.6.1,>=3.4->seaborn) (24.1)\n",
      "Requirement already satisfied: pillow>=8 in c:\\users\\wisdo\\appdata\\local\\programs\\python\\python312\\lib\\site-packages (from matplotlib!=3.6.1,>=3.4->seaborn) (10.4.0)\n",
      "Requirement already satisfied: pyparsing>=2.3.1 in c:\\users\\wisdo\\appdata\\local\\programs\\python\\python312\\lib\\site-packages (from matplotlib!=3.6.1,>=3.4->seaborn) (3.1.4)\n",
      "Requirement already satisfied: python-dateutil>=2.7 in c:\\users\\wisdo\\appdata\\roaming\\python\\python312\\site-packages (from matplotlib!=3.6.1,>=3.4->seaborn) (2.9.0.post0)\n",
      "Requirement already satisfied: pytz>=2020.1 in c:\\users\\wisdo\\appdata\\local\\programs\\python\\python312\\lib\\site-packages (from pandas>=1.2->seaborn) (2024.2)\n",
      "Requirement already satisfied: tzdata>=2022.7 in c:\\users\\wisdo\\appdata\\local\\programs\\python\\python312\\lib\\site-packages (from pandas>=1.2->seaborn) (2024.1)\n",
      "Requirement already satisfied: six>=1.5 in c:\\users\\wisdo\\appdata\\roaming\\python\\python312\\site-packages (from python-dateutil>=2.7->matplotlib!=3.6.1,>=3.4->seaborn) (1.16.0)\n"
     ]
    },
    {
     "name": "stderr",
     "output_type": "stream",
     "text": [
      "\n",
      "[notice] A new release of pip is available: 24.0 -> 24.2\n",
      "[notice] To update, run: python.exe -m pip install --upgrade pip\n"
     ]
    }
   ],
   "source": [
    "!pip install seaborn pydataset"
   ]
  },
  {
   "cell_type": "code",
   "execution_count": 13,
   "metadata": {},
   "outputs": [
    {
     "name": "stderr",
     "output_type": "stream",
     "text": [
      "WARNING: Retrying (Retry(total=4, connect=None, read=None, redirect=None, status=None)) after connection broken by 'NewConnectionError('<pip._vendor.urllib3.connection.HTTPSConnection object at 0x0000021197B885C0>: Failed to establish a new connection: [Errno 11001] getaddrinfo failed')': /simple/seadorn/\n",
      "WARNING: Retrying (Retry(total=3, connect=None, read=None, redirect=None, status=None)) after connection broken by 'NewConnectionError('<pip._vendor.urllib3.connection.HTTPSConnection object at 0x0000021197A0DA00>: Failed to establish a new connection: [Errno 11001] getaddrinfo failed')': /simple/seadorn/\n",
      "WARNING: Retrying (Retry(total=2, connect=None, read=None, redirect=None, status=None)) after connection broken by 'NewConnectionError('<pip._vendor.urllib3.connection.HTTPSConnection object at 0x0000021197B89AF0>: Failed to establish a new connection: [Errno 11001] getaddrinfo failed')': /simple/seadorn/\n",
      "WARNING: Retrying (Retry(total=1, connect=None, read=None, redirect=None, status=None)) after connection broken by 'NewConnectionError('<pip._vendor.urllib3.connection.HTTPSConnection object at 0x0000021197B89BB0>: Failed to establish a new connection: [Errno 11001] getaddrinfo failed')': /simple/seadorn/\n",
      "WARNING: Retrying (Retry(total=0, connect=None, read=None, redirect=None, status=None)) after connection broken by 'NewConnectionError('<pip._vendor.urllib3.connection.HTTPSConnection object at 0x0000021197B89EE0>: Failed to establish a new connection: [Errno 11001] getaddrinfo failed')': /simple/seadorn/\n",
      "ERROR: Could not find a version that satisfies the requirement seadorn (from versions: none)\n",
      "ERROR: No matching distribution found for seadorn\n",
      "\n",
      "[notice] A new release of pip is available: 24.0 -> 24.2\n",
      "[notice] To update, run: python.exe -m pip install --upgrade pip\n"
     ]
    }
   ],
   "source": [
    "!pip install seadorn matplotlib pydataset"
   ]
  },
  {
   "cell_type": "code",
   "execution_count": 14,
   "metadata": {},
   "outputs": [
    {
     "data": {
      "text/html": [
       "<div>\n",
       "<style scoped>\n",
       "    .dataframe tbody tr th:only-of-type {\n",
       "        vertical-align: middle;\n",
       "    }\n",
       "\n",
       "    .dataframe tbody tr th {\n",
       "        vertical-align: top;\n",
       "    }\n",
       "\n",
       "    .dataframe thead th {\n",
       "        text-align: right;\n",
       "    }\n",
       "</style>\n",
       "<table border=\"1\" class=\"dataframe\">\n",
       "  <thead>\n",
       "    <tr style=\"text-align: right;\">\n",
       "      <th></th>\n",
       "      <th>dataset_id</th>\n",
       "      <th>title</th>\n",
       "    </tr>\n",
       "  </thead>\n",
       "  <tbody>\n",
       "    <tr>\n",
       "      <th>0</th>\n",
       "      <td>AirPassengers</td>\n",
       "      <td>Monthly Airline Passenger Numbers 1949-1960</td>\n",
       "    </tr>\n",
       "    <tr>\n",
       "      <th>1</th>\n",
       "      <td>BJsales</td>\n",
       "      <td>Sales Data with Leading Indicator</td>\n",
       "    </tr>\n",
       "    <tr>\n",
       "      <th>2</th>\n",
       "      <td>BOD</td>\n",
       "      <td>Biochemical Oxygen Demand</td>\n",
       "    </tr>\n",
       "    <tr>\n",
       "      <th>3</th>\n",
       "      <td>Formaldehyde</td>\n",
       "      <td>Determination of Formaldehyde</td>\n",
       "    </tr>\n",
       "    <tr>\n",
       "      <th>4</th>\n",
       "      <td>HairEyeColor</td>\n",
       "      <td>Hair and Eye Color of Statistics Students</td>\n",
       "    </tr>\n",
       "    <tr>\n",
       "      <th>...</th>\n",
       "      <td>...</td>\n",
       "      <td>...</td>\n",
       "    </tr>\n",
       "    <tr>\n",
       "      <th>752</th>\n",
       "      <td>VerbAgg</td>\n",
       "      <td>Verbal Aggression item responses</td>\n",
       "    </tr>\n",
       "    <tr>\n",
       "      <th>753</th>\n",
       "      <td>cake</td>\n",
       "      <td>Breakage Angle of Chocolate Cakes</td>\n",
       "    </tr>\n",
       "    <tr>\n",
       "      <th>754</th>\n",
       "      <td>cbpp</td>\n",
       "      <td>Contagious bovine pleuropneumonia</td>\n",
       "    </tr>\n",
       "    <tr>\n",
       "      <th>755</th>\n",
       "      <td>grouseticks</td>\n",
       "      <td>Data on red grouse ticks from Elston et al. 2001</td>\n",
       "    </tr>\n",
       "    <tr>\n",
       "      <th>756</th>\n",
       "      <td>sleepstudy</td>\n",
       "      <td>Reaction times in a sleep deprivation study</td>\n",
       "    </tr>\n",
       "  </tbody>\n",
       "</table>\n",
       "<p>757 rows × 2 columns</p>\n",
       "</div>"
      ],
      "text/plain": [
       "        dataset_id                                             title\n",
       "0    AirPassengers       Monthly Airline Passenger Numbers 1949-1960\n",
       "1          BJsales                 Sales Data with Leading Indicator\n",
       "2              BOD                         Biochemical Oxygen Demand\n",
       "3     Formaldehyde                     Determination of Formaldehyde\n",
       "4     HairEyeColor         Hair and Eye Color of Statistics Students\n",
       "..             ...                                               ...\n",
       "752        VerbAgg                  Verbal Aggression item responses\n",
       "753           cake                 Breakage Angle of Chocolate Cakes\n",
       "754           cbpp                 Contagious bovine pleuropneumonia\n",
       "755    grouseticks  Data on red grouse ticks from Elston et al. 2001\n",
       "756     sleepstudy       Reaction times in a sleep deprivation study\n",
       "\n",
       "[757 rows x 2 columns]"
      ]
     },
     "execution_count": 14,
     "metadata": {},
     "output_type": "execute_result"
    }
   ],
   "source": [
    "from pydataset import data # data 함수를 메모리에 올려 사용할 수 있도록 한다.\n",
    "all_data = data()\n",
    "all_data\n",
    "\n"
   ]
  },
  {
   "cell_type": "code",
   "execution_count": 15,
   "metadata": {},
   "outputs": [
    {
     "data": {
      "text/html": [
       "<div>\n",
       "<style scoped>\n",
       "    .dataframe tbody tr th:only-of-type {\n",
       "        vertical-align: middle;\n",
       "    }\n",
       "\n",
       "    .dataframe tbody tr th {\n",
       "        vertical-align: top;\n",
       "    }\n",
       "\n",
       "    .dataframe thead th {\n",
       "        text-align: right;\n",
       "    }\n",
       "</style>\n",
       "<table border=\"1\" class=\"dataframe\">\n",
       "  <thead>\n",
       "    <tr style=\"text-align: right;\">\n",
       "      <th></th>\n",
       "      <th>speed</th>\n",
       "      <th>dist</th>\n",
       "    </tr>\n",
       "  </thead>\n",
       "  <tbody>\n",
       "    <tr>\n",
       "      <th>1</th>\n",
       "      <td>4</td>\n",
       "      <td>2</td>\n",
       "    </tr>\n",
       "    <tr>\n",
       "      <th>2</th>\n",
       "      <td>4</td>\n",
       "      <td>10</td>\n",
       "    </tr>\n",
       "    <tr>\n",
       "      <th>3</th>\n",
       "      <td>7</td>\n",
       "      <td>4</td>\n",
       "    </tr>\n",
       "    <tr>\n",
       "      <th>4</th>\n",
       "      <td>7</td>\n",
       "      <td>22</td>\n",
       "    </tr>\n",
       "    <tr>\n",
       "      <th>5</th>\n",
       "      <td>8</td>\n",
       "      <td>16</td>\n",
       "    </tr>\n",
       "    <tr>\n",
       "      <th>6</th>\n",
       "      <td>9</td>\n",
       "      <td>10</td>\n",
       "    </tr>\n",
       "    <tr>\n",
       "      <th>7</th>\n",
       "      <td>10</td>\n",
       "      <td>18</td>\n",
       "    </tr>\n",
       "    <tr>\n",
       "      <th>8</th>\n",
       "      <td>10</td>\n",
       "      <td>26</td>\n",
       "    </tr>\n",
       "    <tr>\n",
       "      <th>9</th>\n",
       "      <td>10</td>\n",
       "      <td>34</td>\n",
       "    </tr>\n",
       "    <tr>\n",
       "      <th>10</th>\n",
       "      <td>11</td>\n",
       "      <td>17</td>\n",
       "    </tr>\n",
       "    <tr>\n",
       "      <th>11</th>\n",
       "      <td>11</td>\n",
       "      <td>28</td>\n",
       "    </tr>\n",
       "    <tr>\n",
       "      <th>12</th>\n",
       "      <td>12</td>\n",
       "      <td>14</td>\n",
       "    </tr>\n",
       "    <tr>\n",
       "      <th>13</th>\n",
       "      <td>12</td>\n",
       "      <td>20</td>\n",
       "    </tr>\n",
       "    <tr>\n",
       "      <th>14</th>\n",
       "      <td>12</td>\n",
       "      <td>24</td>\n",
       "    </tr>\n",
       "    <tr>\n",
       "      <th>15</th>\n",
       "      <td>12</td>\n",
       "      <td>28</td>\n",
       "    </tr>\n",
       "    <tr>\n",
       "      <th>16</th>\n",
       "      <td>13</td>\n",
       "      <td>26</td>\n",
       "    </tr>\n",
       "    <tr>\n",
       "      <th>17</th>\n",
       "      <td>13</td>\n",
       "      <td>34</td>\n",
       "    </tr>\n",
       "    <tr>\n",
       "      <th>18</th>\n",
       "      <td>13</td>\n",
       "      <td>34</td>\n",
       "    </tr>\n",
       "    <tr>\n",
       "      <th>19</th>\n",
       "      <td>13</td>\n",
       "      <td>46</td>\n",
       "    </tr>\n",
       "    <tr>\n",
       "      <th>20</th>\n",
       "      <td>14</td>\n",
       "      <td>26</td>\n",
       "    </tr>\n",
       "    <tr>\n",
       "      <th>21</th>\n",
       "      <td>14</td>\n",
       "      <td>36</td>\n",
       "    </tr>\n",
       "    <tr>\n",
       "      <th>22</th>\n",
       "      <td>14</td>\n",
       "      <td>60</td>\n",
       "    </tr>\n",
       "    <tr>\n",
       "      <th>23</th>\n",
       "      <td>14</td>\n",
       "      <td>80</td>\n",
       "    </tr>\n",
       "    <tr>\n",
       "      <th>24</th>\n",
       "      <td>15</td>\n",
       "      <td>20</td>\n",
       "    </tr>\n",
       "    <tr>\n",
       "      <th>25</th>\n",
       "      <td>15</td>\n",
       "      <td>26</td>\n",
       "    </tr>\n",
       "    <tr>\n",
       "      <th>26</th>\n",
       "      <td>15</td>\n",
       "      <td>54</td>\n",
       "    </tr>\n",
       "    <tr>\n",
       "      <th>27</th>\n",
       "      <td>16</td>\n",
       "      <td>32</td>\n",
       "    </tr>\n",
       "    <tr>\n",
       "      <th>28</th>\n",
       "      <td>16</td>\n",
       "      <td>40</td>\n",
       "    </tr>\n",
       "    <tr>\n",
       "      <th>29</th>\n",
       "      <td>17</td>\n",
       "      <td>32</td>\n",
       "    </tr>\n",
       "    <tr>\n",
       "      <th>30</th>\n",
       "      <td>17</td>\n",
       "      <td>40</td>\n",
       "    </tr>\n",
       "    <tr>\n",
       "      <th>31</th>\n",
       "      <td>17</td>\n",
       "      <td>50</td>\n",
       "    </tr>\n",
       "    <tr>\n",
       "      <th>32</th>\n",
       "      <td>18</td>\n",
       "      <td>42</td>\n",
       "    </tr>\n",
       "    <tr>\n",
       "      <th>33</th>\n",
       "      <td>18</td>\n",
       "      <td>56</td>\n",
       "    </tr>\n",
       "    <tr>\n",
       "      <th>34</th>\n",
       "      <td>18</td>\n",
       "      <td>76</td>\n",
       "    </tr>\n",
       "    <tr>\n",
       "      <th>35</th>\n",
       "      <td>18</td>\n",
       "      <td>84</td>\n",
       "    </tr>\n",
       "    <tr>\n",
       "      <th>36</th>\n",
       "      <td>19</td>\n",
       "      <td>36</td>\n",
       "    </tr>\n",
       "    <tr>\n",
       "      <th>37</th>\n",
       "      <td>19</td>\n",
       "      <td>46</td>\n",
       "    </tr>\n",
       "    <tr>\n",
       "      <th>38</th>\n",
       "      <td>19</td>\n",
       "      <td>68</td>\n",
       "    </tr>\n",
       "    <tr>\n",
       "      <th>39</th>\n",
       "      <td>20</td>\n",
       "      <td>32</td>\n",
       "    </tr>\n",
       "    <tr>\n",
       "      <th>40</th>\n",
       "      <td>20</td>\n",
       "      <td>48</td>\n",
       "    </tr>\n",
       "    <tr>\n",
       "      <th>41</th>\n",
       "      <td>20</td>\n",
       "      <td>52</td>\n",
       "    </tr>\n",
       "    <tr>\n",
       "      <th>42</th>\n",
       "      <td>20</td>\n",
       "      <td>56</td>\n",
       "    </tr>\n",
       "    <tr>\n",
       "      <th>43</th>\n",
       "      <td>20</td>\n",
       "      <td>64</td>\n",
       "    </tr>\n",
       "    <tr>\n",
       "      <th>44</th>\n",
       "      <td>22</td>\n",
       "      <td>66</td>\n",
       "    </tr>\n",
       "    <tr>\n",
       "      <th>45</th>\n",
       "      <td>23</td>\n",
       "      <td>54</td>\n",
       "    </tr>\n",
       "    <tr>\n",
       "      <th>46</th>\n",
       "      <td>24</td>\n",
       "      <td>70</td>\n",
       "    </tr>\n",
       "    <tr>\n",
       "      <th>47</th>\n",
       "      <td>24</td>\n",
       "      <td>92</td>\n",
       "    </tr>\n",
       "    <tr>\n",
       "      <th>48</th>\n",
       "      <td>24</td>\n",
       "      <td>93</td>\n",
       "    </tr>\n",
       "    <tr>\n",
       "      <th>49</th>\n",
       "      <td>24</td>\n",
       "      <td>120</td>\n",
       "    </tr>\n",
       "    <tr>\n",
       "      <th>50</th>\n",
       "      <td>25</td>\n",
       "      <td>85</td>\n",
       "    </tr>\n",
       "  </tbody>\n",
       "</table>\n",
       "</div>"
      ],
      "text/plain": [
       "    speed  dist\n",
       "1       4     2\n",
       "2       4    10\n",
       "3       7     4\n",
       "4       7    22\n",
       "5       8    16\n",
       "6       9    10\n",
       "7      10    18\n",
       "8      10    26\n",
       "9      10    34\n",
       "10     11    17\n",
       "11     11    28\n",
       "12     12    14\n",
       "13     12    20\n",
       "14     12    24\n",
       "15     12    28\n",
       "16     13    26\n",
       "17     13    34\n",
       "18     13    34\n",
       "19     13    46\n",
       "20     14    26\n",
       "21     14    36\n",
       "22     14    60\n",
       "23     14    80\n",
       "24     15    20\n",
       "25     15    26\n",
       "26     15    54\n",
       "27     16    32\n",
       "28     16    40\n",
       "29     17    32\n",
       "30     17    40\n",
       "31     17    50\n",
       "32     18    42\n",
       "33     18    56\n",
       "34     18    76\n",
       "35     18    84\n",
       "36     19    36\n",
       "37     19    46\n",
       "38     19    68\n",
       "39     20    32\n",
       "40     20    48\n",
       "41     20    52\n",
       "42     20    56\n",
       "43     20    64\n",
       "44     22    66\n",
       "45     23    54\n",
       "46     24    70\n",
       "47     24    92\n",
       "48     24    93\n",
       "49     24   120\n",
       "50     25    85"
      ]
     },
     "execution_count": 15,
     "metadata": {},
     "output_type": "execute_result"
    }
   ],
   "source": [
    "cars = data('cars')\n",
    "cars"
   ]
  },
  {
   "cell_type": "code",
   "execution_count": 16,
   "metadata": {},
   "outputs": [
    {
     "data": {
      "text/plain": [
       "<matplotlib.collections.PathCollection at 0x23944099970>"
      ]
     },
     "execution_count": 16,
     "metadata": {},
     "output_type": "execute_result"
    },
    {
     "data": {
      "image/png": "[encoded data removed]",
      "text/plain": [
       "<Figure size 640x480 with 1 Axes>"
      ]
     },
     "metadata": {},
     "output_type": "display_data"
    }
   ],
   "source": [
    "import matplotlib.pyplot as plt\n",
    "\n",
    "plt.scatter(x = cars.speed, y = cars.dist)"
   ]
  },
  {
   "cell_type": "code",
   "execution_count": 17,
   "metadata": {},
   "outputs": [
    {
     "data": {
      "image/png": "[encoded data removed]",
      "text/plain": [
       "<Figure size 640x480 with 1 Axes>"
      ]
     },
     "metadata": {},
     "output_type": "display_data"
    }
   ],
   "source": [
    "import matplotlib.pyplot as plt\n",
    "import seaborn as sns\n",
    "\n",
    "sns.scatterplot(x= cars.speed, y = cars.dist)\n",
    "plt.show()"
   ]
  },
  {
   "cell_type": "code",
   "execution_count": 18,
   "metadata": {},
   "outputs": [],
   "source": [
    "%config InlineBackend.figure_format = 'retina'"
   ]
  },
  {
   "cell_type": "code",
   "execution_count": 19,
   "metadata": {},
   "outputs": [
    {
     "data": {
      "text/html": [
       "<div>\n",
       "<style scoped>\n",
       "    .dataframe tbody tr th:only-of-type {\n",
       "        vertical-align: middle;\n",
       "    }\n",
       "\n",
       "    .dataframe tbody tr th {\n",
       "        vertical-align: top;\n",
       "    }\n",
       "\n",
       "    .dataframe thead th {\n",
       "        text-align: right;\n",
       "    }\n",
       "</style>\n",
       "<table border=\"1\" class=\"dataframe\">\n",
       "  <thead>\n",
       "    <tr style=\"text-align: right;\">\n",
       "      <th></th>\n",
       "      <th>manufacturer</th>\n",
       "      <th>model</th>\n",
       "      <th>displ</th>\n",
       "      <th>year</th>\n",
       "      <th>cyl</th>\n",
       "      <th>trans</th>\n",
       "      <th>drv</th>\n",
       "      <th>cty</th>\n",
       "      <th>hwy</th>\n",
       "      <th>fl</th>\n",
       "      <th>class</th>\n",
       "    </tr>\n",
       "  </thead>\n",
       "  <tbody>\n",
       "    <tr>\n",
       "      <th>1</th>\n",
       "      <td>audi</td>\n",
       "      <td>a4</td>\n",
       "      <td>1.8</td>\n",
       "      <td>1999</td>\n",
       "      <td>4</td>\n",
       "      <td>auto(l5)</td>\n",
       "      <td>f</td>\n",
       "      <td>18</td>\n",
       "      <td>29</td>\n",
       "      <td>p</td>\n",
       "      <td>compact</td>\n",
       "    </tr>\n",
       "    <tr>\n",
       "      <th>2</th>\n",
       "      <td>audi</td>\n",
       "      <td>a4</td>\n",
       "      <td>1.8</td>\n",
       "      <td>1999</td>\n",
       "      <td>4</td>\n",
       "      <td>manual(m5)</td>\n",
       "      <td>f</td>\n",
       "      <td>21</td>\n",
       "      <td>29</td>\n",
       "      <td>p</td>\n",
       "      <td>compact</td>\n",
       "    </tr>\n",
       "    <tr>\n",
       "      <th>3</th>\n",
       "      <td>audi</td>\n",
       "      <td>a4</td>\n",
       "      <td>2.0</td>\n",
       "      <td>2008</td>\n",
       "      <td>4</td>\n",
       "      <td>manual(m6)</td>\n",
       "      <td>f</td>\n",
       "      <td>20</td>\n",
       "      <td>31</td>\n",
       "      <td>p</td>\n",
       "      <td>compact</td>\n",
       "    </tr>\n",
       "    <tr>\n",
       "      <th>4</th>\n",
       "      <td>audi</td>\n",
       "      <td>a4</td>\n",
       "      <td>2.0</td>\n",
       "      <td>2008</td>\n",
       "      <td>4</td>\n",
       "      <td>auto(av)</td>\n",
       "      <td>f</td>\n",
       "      <td>21</td>\n",
       "      <td>30</td>\n",
       "      <td>p</td>\n",
       "      <td>compact</td>\n",
       "    </tr>\n",
       "    <tr>\n",
       "      <th>5</th>\n",
       "      <td>audi</td>\n",
       "      <td>a4</td>\n",
       "      <td>2.8</td>\n",
       "      <td>1999</td>\n",
       "      <td>6</td>\n",
       "      <td>auto(l5)</td>\n",
       "      <td>f</td>\n",
       "      <td>16</td>\n",
       "      <td>26</td>\n",
       "      <td>p</td>\n",
       "      <td>compact</td>\n",
       "    </tr>\n",
       "  </tbody>\n",
       "</table>\n",
       "</div>"
      ],
      "text/plain": [
       "  manufacturer model  displ  year  cyl       trans drv  cty  hwy fl    class\n",
       "1         audi    a4    1.8  1999    4    auto(l5)   f   18   29  p  compact\n",
       "2         audi    a4    1.8  1999    4  manual(m5)   f   21   29  p  compact\n",
       "3         audi    a4    2.0  2008    4  manual(m6)   f   20   31  p  compact\n",
       "4         audi    a4    2.0  2008    4    auto(av)   f   21   30  p  compact\n",
       "5         audi    a4    2.8  1999    6    auto(l5)   f   16   26  p  compact"
      ]
     },
     "execution_count": 19,
     "metadata": {},
     "output_type": "execute_result"
    }
   ],
   "source": [
    "mpg = data('mpg')\n",
    "mpg.head()"
   ]
  },
  {
   "cell_type": "code",
   "execution_count": 20,
   "metadata": {},
   "outputs": [
    {
     "data": {
      "text/html": [
       "<div>\n",
       "<style scoped>\n",
       "    .dataframe tbody tr th:only-of-type {\n",
       "        vertical-align: middle;\n",
       "    }\n",
       "\n",
       "    .dataframe tbody tr th {\n",
       "        vertical-align: top;\n",
       "    }\n",
       "\n",
       "    .dataframe thead th {\n",
       "        text-align: right;\n",
       "    }\n",
       "</style>\n",
       "<table border=\"1\" class=\"dataframe\">\n",
       "  <thead>\n",
       "    <tr style=\"text-align: right;\">\n",
       "      <th></th>\n",
       "      <th>manufacturer</th>\n",
       "      <th>model</th>\n",
       "      <th>displ</th>\n",
       "      <th>year</th>\n",
       "      <th>cyl</th>\n",
       "      <th>trans</th>\n",
       "      <th>drv</th>\n",
       "      <th>cty</th>\n",
       "      <th>hwy</th>\n",
       "      <th>fl</th>\n",
       "      <th>class</th>\n",
       "    </tr>\n",
       "  </thead>\n",
       "  <tbody>\n",
       "    <tr>\n",
       "      <th>1</th>\n",
       "      <td>audi</td>\n",
       "      <td>a4</td>\n",
       "      <td>1.8</td>\n",
       "      <td>1999</td>\n",
       "      <td>4</td>\n",
       "      <td>auto(l5)</td>\n",
       "      <td>f</td>\n",
       "      <td>18</td>\n",
       "      <td>29</td>\n",
       "      <td>p</td>\n",
       "      <td>compact</td>\n",
       "    </tr>\n",
       "    <tr>\n",
       "      <th>2</th>\n",
       "      <td>audi</td>\n",
       "      <td>a4</td>\n",
       "      <td>1.8</td>\n",
       "      <td>1999</td>\n",
       "      <td>4</td>\n",
       "      <td>manual(m5)</td>\n",
       "      <td>f</td>\n",
       "      <td>21</td>\n",
       "      <td>29</td>\n",
       "      <td>p</td>\n",
       "      <td>compact</td>\n",
       "    </tr>\n",
       "    <tr>\n",
       "      <th>3</th>\n",
       "      <td>audi</td>\n",
       "      <td>a4</td>\n",
       "      <td>2.0</td>\n",
       "      <td>2008</td>\n",
       "      <td>4</td>\n",
       "      <td>manual(m6)</td>\n",
       "      <td>f</td>\n",
       "      <td>20</td>\n",
       "      <td>31</td>\n",
       "      <td>p</td>\n",
       "      <td>compact</td>\n",
       "    </tr>\n",
       "    <tr>\n",
       "      <th>4</th>\n",
       "      <td>audi</td>\n",
       "      <td>a4</td>\n",
       "      <td>2.0</td>\n",
       "      <td>2008</td>\n",
       "      <td>4</td>\n",
       "      <td>auto(av)</td>\n",
       "      <td>f</td>\n",
       "      <td>21</td>\n",
       "      <td>30</td>\n",
       "      <td>p</td>\n",
       "      <td>compact</td>\n",
       "    </tr>\n",
       "    <tr>\n",
       "      <th>5</th>\n",
       "      <td>audi</td>\n",
       "      <td>a4</td>\n",
       "      <td>2.8</td>\n",
       "      <td>1999</td>\n",
       "      <td>6</td>\n",
       "      <td>auto(l5)</td>\n",
       "      <td>f</td>\n",
       "      <td>16</td>\n",
       "      <td>26</td>\n",
       "      <td>p</td>\n",
       "      <td>compact</td>\n",
       "    </tr>\n",
       "    <tr>\n",
       "      <th>...</th>\n",
       "      <td>...</td>\n",
       "      <td>...</td>\n",
       "      <td>...</td>\n",
       "      <td>...</td>\n",
       "      <td>...</td>\n",
       "      <td>...</td>\n",
       "      <td>...</td>\n",
       "      <td>...</td>\n",
       "      <td>...</td>\n",
       "      <td>...</td>\n",
       "      <td>...</td>\n",
       "    </tr>\n",
       "    <tr>\n",
       "      <th>230</th>\n",
       "      <td>volkswagen</td>\n",
       "      <td>passat</td>\n",
       "      <td>2.0</td>\n",
       "      <td>2008</td>\n",
       "      <td>4</td>\n",
       "      <td>auto(s6)</td>\n",
       "      <td>f</td>\n",
       "      <td>19</td>\n",
       "      <td>28</td>\n",
       "      <td>p</td>\n",
       "      <td>midsize</td>\n",
       "    </tr>\n",
       "    <tr>\n",
       "      <th>231</th>\n",
       "      <td>volkswagen</td>\n",
       "      <td>passat</td>\n",
       "      <td>2.0</td>\n",
       "      <td>2008</td>\n",
       "      <td>4</td>\n",
       "      <td>manual(m6)</td>\n",
       "      <td>f</td>\n",
       "      <td>21</td>\n",
       "      <td>29</td>\n",
       "      <td>p</td>\n",
       "      <td>midsize</td>\n",
       "    </tr>\n",
       "    <tr>\n",
       "      <th>232</th>\n",
       "      <td>volkswagen</td>\n",
       "      <td>passat</td>\n",
       "      <td>2.8</td>\n",
       "      <td>1999</td>\n",
       "      <td>6</td>\n",
       "      <td>auto(l5)</td>\n",
       "      <td>f</td>\n",
       "      <td>16</td>\n",
       "      <td>26</td>\n",
       "      <td>p</td>\n",
       "      <td>midsize</td>\n",
       "    </tr>\n",
       "    <tr>\n",
       "      <th>233</th>\n",
       "      <td>volkswagen</td>\n",
       "      <td>passat</td>\n",
       "      <td>2.8</td>\n",
       "      <td>1999</td>\n",
       "      <td>6</td>\n",
       "      <td>manual(m5)</td>\n",
       "      <td>f</td>\n",
       "      <td>18</td>\n",
       "      <td>26</td>\n",
       "      <td>p</td>\n",
       "      <td>midsize</td>\n",
       "    </tr>\n",
       "    <tr>\n",
       "      <th>234</th>\n",
       "      <td>volkswagen</td>\n",
       "      <td>passat</td>\n",
       "      <td>3.6</td>\n",
       "      <td>2008</td>\n",
       "      <td>6</td>\n",
       "      <td>auto(s6)</td>\n",
       "      <td>f</td>\n",
       "      <td>17</td>\n",
       "      <td>26</td>\n",
       "      <td>p</td>\n",
       "      <td>midsize</td>\n",
       "    </tr>\n",
       "  </tbody>\n",
       "</table>\n",
       "<p>234 rows × 11 columns</p>\n",
       "</div>"
      ],
      "text/plain": [
       "    manufacturer   model  displ  year  cyl  ... drv cty  hwy  fl    class\n",
       "1           audi      a4    1.8  1999    4  ...   f  18   29   p  compact\n",
       "2           audi      a4    1.8  1999    4  ...   f  21   29   p  compact\n",
       "3           audi      a4    2.0  2008    4  ...   f  20   31   p  compact\n",
       "4           audi      a4    2.0  2008    4  ...   f  21   30   p  compact\n",
       "5           audi      a4    2.8  1999    6  ...   f  16   26   p  compact\n",
       "..           ...     ...    ...   ...  ...  ...  ..  ..  ...  ..      ...\n",
       "230   volkswagen  passat    2.0  2008    4  ...   f  19   28   p  midsize\n",
       "231   volkswagen  passat    2.0  2008    4  ...   f  21   29   p  midsize\n",
       "232   volkswagen  passat    2.8  1999    6  ...   f  16   26   p  midsize\n",
       "233   volkswagen  passat    2.8  1999    6  ...   f  18   26   p  midsize\n",
       "234   volkswagen  passat    3.6  2008    6  ...   f  17   26   p  midsize\n",
       "\n",
       "[234 rows x 11 columns]"
      ]
     },
     "execution_count": 20,
     "metadata": {},
     "output_type": "execute_result"
    }
   ],
   "source": [
    "mpg"
   ]
  },
  {
   "cell_type": "code",
   "execution_count": 22,
   "metadata": {},
   "outputs": [
    {
     "name": "stdout",
     "output_type": "stream",
     "text": [
      "<class 'pandas.core.frame.DataFrame'>\n",
      "Index: 234 entries, 1 to 234\n",
      "Data columns (total 11 columns):\n",
      " #   Column        Non-Null Count  Dtype  \n",
      "---  ------        --------------  -----  \n",
      " 0   manufacturer  234 non-null    object \n",
      " 1   model         234 non-null    object \n",
      " 2   displ         234 non-null    float64\n",
      " 3   year          234 non-null    int64  \n",
      " 4   cyl           234 non-null    int64  \n",
      " 5   trans         234 non-null    object \n",
      " 6   drv           234 non-null    object \n",
      " 7   cty           234 non-null    int64  \n",
      " 8   hwy           234 non-null    int64  \n",
      " 9   fl            234 non-null    object \n",
      " 10  class         234 non-null    object \n",
      "dtypes: float64(1), int64(4), object(6)\n",
      "memory usage: 21.9+ KB\n"
     ]
    }
   ],
   "source": [
    "mpg.info()"
   ]
  },
  {
   "cell_type": "code",
   "execution_count": 23,
   "metadata": {},
   "outputs": [
    {
     "data": {
      "text/plain": [
       "<Axes: xlabel='displ', ylabel='cty'>"
      ]
     },
     "execution_count": 23,
     "metadata": {},
     "output_type": "execute_result"
    },
    {
     "data": {
      "image/png": "[encoded data removed]",
      "text/plain": [
       "<Figure size 640x480 with 1 Axes>"
      ]
     },
     "metadata": {
      "image/png": {
       "height": 432,
       "width": 563
      }
     },
     "output_type": "display_data"
    }
   ],
   "source": [
    "import matplotlib.pyplot as plt\n",
    "import seaborn as sns\n",
    "\n",
    "sns.scatterplot(x = mpg.displ, y = mpg.cty)"
   ]
  },
  {
   "cell_type": "code",
   "execution_count": 24,
   "metadata": {},
   "outputs": [
    {
     "data": {
      "text/plain": [
       "<Axes: xlabel='displ', ylabel='cty'>"
      ]
     },
     "execution_count": 24,
     "metadata": {},
     "output_type": "execute_result"
    },
    {
     "data": {
      "image/png": "[encoded data removed]",
      "text/plain": [
       "<Figure size 640x480 with 1 Axes>"
      ]
     },
     "metadata": {
      "image/png": {
       "height": 432,
       "width": 563
      }
     },
     "output_type": "display_data"
    }
   ],
   "source": [
    "import matplotlib.pyplot as plt\n",
    "import seaborn as sns\n",
    "\n",
    "sns.scatterplot(x = mpg.displ, y = mpg.cty, hue = mpg.drv)"
   ]
  },
  {
   "cell_type": "code",
   "execution_count": null,
   "metadata": {},
   "outputs": [],
   "source": []
  }
 ],
 "metadata": {
  "kernelspec": {
   "display_name": "Python 3",
   "language": "python",
   "name": "python3"
  },
  "language_info": {
   "codemirror_mode": {
    "name": "ipython",
    "version": 3
   },
   "file_extension": ".py",
   "mimetype": "text/x-python",
   "name": "python",
   "nbconvert_exporter": "python",
   "pygments_lexer": "ipython3",
   "version": "3.12.2"
  }
 },
 "nbformat": 4,
 "nbformat_minor": 2
}
