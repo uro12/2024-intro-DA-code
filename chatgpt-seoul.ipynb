{
 "cells": [
  {
   "cell_type": "code",
   "execution_count": 9,
   "metadata": {},
   "outputs": [
    {
     "name": "stdout",
     "output_type": "stream",
     "text": [
      "파일을 읽을 수 없거나 데이터가 없습니다.\n"
     ]
    }
   ],
   "source": [
    "import csv\n",
    "import os\n",
    "\n",
    "def find_hottest_day_in_seoul(file_path):\n",
    "    max_temp = float('-inf')  # 가장 높은 온도를 추적할 변수\n",
    "    hottest_day = None  # 가장 더운 날을 추적할 변수\n",
    "\n",
    "    # CSV 파일 읽기\n",
    "    if not os.path.exists(file_path):\n",
    "        print(f\"파일을 찾을 수 없습니다: {file_path}\")\n",
    "        return None, None\n",
    "    \n",
    "    # 'EUC-KR' 또는 'CP949' 인코딩 사용\n",
    "    with open(file_path, 'r', encoding='cp949') as file:\n",
    "        reader = csv.reader(file)\n",
    "        next(reader)  # 헤더 스킵\n",
    "\n",
    "        for row in reader:\n",
    "            date = row[0]  # 첫 번째 컬럼이 날짜라고 가정\n",
    "            city = row[1]  # 두 번째 컬럼이 도시명이라고 가정\n",
    "            temp_str = row[2].strip()  # 세 번째 컬럼이 온도라고 가정\n",
    "\n",
    "            # 빈 값이나 잘못된 값 건너뛰기\n",
    "            if not temp_str:\n",
    "                continue\n",
    "\n",
    "            try:\n",
    "                temp = float(temp_str)  # 온도를 float으로 변환\n",
    "            except ValueError:\n",
    "                # 숫자로 변환할 수 없는 경우 건너뛰기\n",
    "                continue\n",
    "\n",
    "            # 서울에 해당하는 데이터만 처리\n",
    "            if city == 'Seoul':\n",
    "                if temp > max_temp:\n",
    "                    max_temp = temp\n",
    "                    hottest_day = date\n",
    "\n",
    "    return hottest_day, max_temp\n",
    "\n",
    "# 파일 경로를 지정하여 사용\n",
    "file_path = 'seoul.csv'  # 파일 이름을 'seoul.csv'로 수정\n",
    "hottest_day, max_temp = find_hottest_day_in_seoul(file_path)\n",
    "\n",
    "if hottest_day and max_temp:\n",
    "    print(f\"서울에서 가장 온도가 높은 날: {hottest_day}, 온도: {max_temp}°C\")\n",
    "else:\n",
    "    print(\"파일을 읽을 수 없거나 데이터가 없습니다.\")"
   ]
  }
 ],
 "metadata": {
  "kernelspec": {
   "display_name": "Python 3",
   "language": "python",
   "name": "python3"
  },
  "language_info": {
   "codemirror_mode": {
    "name": "ipython",
    "version": 3
   },
   "file_extension": ".py",
   "mimetype": "text/x-python",
   "name": "python",
   "nbconvert_exporter": "python",
   "pygments_lexer": "ipython3",
   "version": "3.12.2"
  }
 },
 "nbformat": 4,
 "nbformat_minor": 2
}
