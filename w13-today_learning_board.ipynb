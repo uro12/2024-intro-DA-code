{
 "cells": [
  {
   "cell_type": "code",
   "execution_count": 1,
   "metadata": {},
   "outputs": [
    {
     "name": "stdout",
     "output_type": "stream",
     "text": [
      "3.8.4\n",
      "1.26.4\n"
     ]
    }
   ],
   "source": [
    "import matplotlib as mpl\n",
    "print(mpl.__version__)\n",
    "\n",
    "import numpy as np\n",
    "print(np.__version__)\n",
    "\n",
    "%config InlineBackend.figure_format = 'retina'\n",
    "\n",
    "import matplotlib.pyplot as plt\n",
    "\n",
    "plt.rc('font', family='Malgun Gothic')\n",
    "plt.rcParams['font.family'] ='Malgun Gothic'\n",
    "plt.rc('axes', unicode_minus=False)\n",
    "plt.rcParams['axes.unicode_minus'] = False\n",
    "\n",
    "import pandas as pd\n",
    "import numpy as np"
   ]
  },
  {
   "cell_type": "code",
   "execution_count": 3,
   "metadata": {},
   "outputs": [
    {
     "data": {
      "text/plain": [
       "DatetimeIndex(['2024-12-01', '2024-12-02', '2024-12-03', '2024-12-04',\n",
       "               '2024-12-05', '2024-12-06', '2024-12-07', '2024-12-08'],\n",
       "              dtype='datetime64[ns]', freq='D')"
      ]
     },
     "execution_count": 3,
     "metadata": {},
     "output_type": "execute_result"
    }
   ],
   "source": [
    "import pandas as pd\n",
    "\n",
    "index = pd.date_range('2024-12-1', periods=8)\n",
    "index"
   ]
  },
  {
   "cell_type": "code",
   "execution_count": 7,
   "metadata": {},
   "outputs": [
    {
     "data": {
      "text/html": [
       "<div>\n",
       "<style scoped>\n",
       "    .dataframe tbody tr th:only-of-type {\n",
       "        vertical-align: middle;\n",
       "    }\n",
       "\n",
       "    .dataframe tbody tr th {\n",
       "        vertical-align: top;\n",
       "    }\n",
       "\n",
       "    .dataframe thead th {\n",
       "        text-align: right;\n",
       "    }\n",
       "</style>\n",
       "<table border=\"1\" class=\"dataframe\">\n",
       "  <thead>\n",
       "    <tr style=\"text-align: right;\">\n",
       "      <th></th>\n",
       "      <th>A</th>\n",
       "      <th>B</th>\n",
       "      <th>C</th>\n",
       "    </tr>\n",
       "  </thead>\n",
       "  <tbody>\n",
       "    <tr>\n",
       "      <th>2024-12-01</th>\n",
       "      <td>0.122597</td>\n",
       "      <td>0.429130</td>\n",
       "      <td>0.462301</td>\n",
       "    </tr>\n",
       "    <tr>\n",
       "      <th>2024-12-02</th>\n",
       "      <td>0.881520</td>\n",
       "      <td>0.055056</td>\n",
       "      <td>0.011680</td>\n",
       "    </tr>\n",
       "    <tr>\n",
       "      <th>2024-12-03</th>\n",
       "      <td>0.640733</td>\n",
       "      <td>0.281267</td>\n",
       "      <td>0.674983</td>\n",
       "    </tr>\n",
       "    <tr>\n",
       "      <th>2024-12-04</th>\n",
       "      <td>0.869241</td>\n",
       "      <td>0.413887</td>\n",
       "      <td>0.383628</td>\n",
       "    </tr>\n",
       "    <tr>\n",
       "      <th>2024-12-05</th>\n",
       "      <td>0.231445</td>\n",
       "      <td>0.286581</td>\n",
       "      <td>0.710250</td>\n",
       "    </tr>\n",
       "    <tr>\n",
       "      <th>2024-12-06</th>\n",
       "      <td>0.493422</td>\n",
       "      <td>0.965491</td>\n",
       "      <td>0.642504</td>\n",
       "    </tr>\n",
       "    <tr>\n",
       "      <th>2024-12-07</th>\n",
       "      <td>0.696211</td>\n",
       "      <td>0.688713</td>\n",
       "      <td>0.085245</td>\n",
       "    </tr>\n",
       "    <tr>\n",
       "      <th>2024-12-08</th>\n",
       "      <td>0.788984</td>\n",
       "      <td>0.434937</td>\n",
       "      <td>0.713775</td>\n",
       "    </tr>\n",
       "  </tbody>\n",
       "</table>\n",
       "</div>"
      ],
      "text/plain": [
       "                   A         B         C\n",
       "2024-12-01  0.122597  0.429130  0.462301\n",
       "2024-12-02  0.881520  0.055056  0.011680\n",
       "2024-12-03  0.640733  0.281267  0.674983\n",
       "2024-12-04  0.869241  0.413887  0.383628\n",
       "2024-12-05  0.231445  0.286581  0.710250\n",
       "2024-12-06  0.493422  0.965491  0.642504\n",
       "2024-12-07  0.696211  0.688713  0.085245\n",
       "2024-12-08  0.788984  0.434937  0.713775"
      ]
     },
     "execution_count": 7,
     "metadata": {},
     "output_type": "execute_result"
    }
   ],
   "source": [
    "index = pd.date_range('2024-12-1', periods=8)\n",
    "df =  pd.DataFrame(np.random.rand(8,3), index=index, columns= list('ABC'))\n",
    "df"
   ]
  },
  {
   "cell_type": "code",
   "execution_count": 8,
   "metadata": {},
   "outputs": [
    {
     "data": {
      "text/html": [
       "<div>\n",
       "<style scoped>\n",
       "    .dataframe tbody tr th:only-of-type {\n",
       "        vertical-align: middle;\n",
       "    }\n",
       "\n",
       "    .dataframe tbody tr th {\n",
       "        vertical-align: top;\n",
       "    }\n",
       "\n",
       "    .dataframe thead th {\n",
       "        text-align: right;\n",
       "    }\n",
       "</style>\n",
       "<table border=\"1\" class=\"dataframe\">\n",
       "  <thead>\n",
       "    <tr style=\"text-align: right;\">\n",
       "      <th></th>\n",
       "      <th>B</th>\n",
       "      <th>C</th>\n",
       "      <th>A</th>\n",
       "    </tr>\n",
       "  </thead>\n",
       "  <tbody>\n",
       "    <tr>\n",
       "      <th>2024-12-01</th>\n",
       "      <td>0.462169</td>\n",
       "      <td>0.465803</td>\n",
       "      <td>0.051208</td>\n",
       "    </tr>\n",
       "    <tr>\n",
       "      <th>2024-12-02</th>\n",
       "      <td>0.473864</td>\n",
       "      <td>0.012989</td>\n",
       "      <td>0.912426</td>\n",
       "    </tr>\n",
       "    <tr>\n",
       "      <th>2024-12-03</th>\n",
       "      <td>0.905779</td>\n",
       "      <td>0.760887</td>\n",
       "      <td>0.569244</td>\n",
       "    </tr>\n",
       "    <tr>\n",
       "      <th>2024-12-04</th>\n",
       "      <td>0.912977</td>\n",
       "      <td>0.654406</td>\n",
       "      <td>0.452818</td>\n",
       "    </tr>\n",
       "    <tr>\n",
       "      <th>2024-12-05</th>\n",
       "      <td>0.561244</td>\n",
       "      <td>0.843249</td>\n",
       "      <td>0.539478</td>\n",
       "    </tr>\n",
       "    <tr>\n",
       "      <th>2024-12-06</th>\n",
       "      <td>0.707130</td>\n",
       "      <td>0.423469</td>\n",
       "      <td>0.210084</td>\n",
       "    </tr>\n",
       "    <tr>\n",
       "      <th>2024-12-07</th>\n",
       "      <td>0.983370</td>\n",
       "      <td>0.607497</td>\n",
       "      <td>0.584526</td>\n",
       "    </tr>\n",
       "    <tr>\n",
       "      <th>2024-12-08</th>\n",
       "      <td>0.231268</td>\n",
       "      <td>0.584255</td>\n",
       "      <td>0.541846</td>\n",
       "    </tr>\n",
       "  </tbody>\n",
       "</table>\n",
       "</div>"
      ],
      "text/plain": [
       "                   B         C         A\n",
       "2024-12-01  0.462169  0.465803  0.051208\n",
       "2024-12-02  0.473864  0.012989  0.912426\n",
       "2024-12-03  0.905779  0.760887  0.569244\n",
       "2024-12-04  0.912977  0.654406  0.452818\n",
       "2024-12-05  0.561244  0.843249  0.539478\n",
       "2024-12-06  0.707130  0.423469  0.210084\n",
       "2024-12-07  0.983370  0.607497  0.584526\n",
       "2024-12-08  0.231268  0.584255  0.541846"
      ]
     },
     "execution_count": 8,
     "metadata": {},
     "output_type": "execute_result"
    }
   ],
   "source": [
    "index = pd.date_range('2024-12-1', periods=8)\n",
    "df =  pd.DataFrame(np.random.rand(8,3), index=index, columns= list('BCA'))\n",
    "df"
   ]
  },
  {
   "cell_type": "code",
   "execution_count": 9,
   "metadata": {},
   "outputs": [
    {
     "data": {
      "text/plain": [
       "2024-12-01    0.462169\n",
       "2024-12-02    0.473864\n",
       "2024-12-03    0.905779\n",
       "2024-12-04    0.912977\n",
       "2024-12-05    0.561244\n",
       "2024-12-06    0.707130\n",
       "2024-12-07    0.983370\n",
       "2024-12-08    0.231268\n",
       "Freq: D, Name: B, dtype: float64"
      ]
     },
     "execution_count": 9,
     "metadata": {},
     "output_type": "execute_result"
    }
   ],
   "source": [
    "df['B']"
   ]
  },
  {
   "cell_type": "code",
   "execution_count": 10,
   "metadata": {},
   "outputs": [
    {
     "name": "stderr",
     "output_type": "stream",
     "text": [
      "C:\\Users\\109-1\\AppData\\Local\\Temp\\ipykernel_2180\\2498547084.py:1: FutureWarning: Series.__getitem__ treating keys as positions is deprecated. In a future version, integer keys will always be treated as labels (consistent with DataFrame behavior). To access a value by position, use `ser.iloc[pos]`\n",
      "  df['B'][0]\n"
     ]
    },
    {
     "data": {
      "text/plain": [
       "0.4621690588263937"
      ]
     },
     "execution_count": 10,
     "metadata": {},
     "output_type": "execute_result"
    }
   ],
   "source": [
    "df['B'][0]"
   ]
  },
  {
   "cell_type": "code",
   "execution_count": 15,
   "metadata": {},
   "outputs": [
    {
     "name": "stdout",
     "output_type": "stream",
     "text": [
      "2024-12-01     True\n",
      "2024-12-02    False\n",
      "2024-12-03    False\n",
      "2024-12-04     True\n",
      "2024-12-05     True\n",
      "2024-12-06     True\n",
      "2024-12-07    False\n",
      "2024-12-08     True\n",
      "Freq: D, Name: B, dtype: bool\n"
     ]
    }
   ],
   "source": [
    "index = pd.date_range('2024-12-1', periods=8)\n",
    "\n",
    "df = pd.DataFrame(np.random.rand(8,3), index=index, columns=['A', 'B', 'C'])\n",
    "print(df['B'] > 0.4)"
   ]
  },
  {
   "cell_type": "code",
   "execution_count": null,
   "metadata": {},
   "outputs": [],
   "source": [
    "index = pd.date_range('2024-12-1', periods=8)\n",
    "\n",
    "df = pd.DataFrame(np.random.rand(8,3), index=index, columns=['A', 'B', 'C'])\n",
    "print(df['B'] > 0.4)"
   ]
  },
  {
   "cell_type": "code",
   "execution_count": null,
   "metadata": {},
   "outputs": [],
   "source": [
    "\n",
    "난수\n",
    "choice, hist\n",
    "데이터프레임\n",
    "제주도 age, 색상지정 "
   ]
  }
 ],
 "metadata": {
  "kernelspec": {
   "display_name": "base",
   "language": "python",
   "name": "python3"
  },
  "language_info": {
   "codemirror_mode": {
    "name": "ipython",
    "version": 3
   },
   "file_extension": ".py",
   "mimetype": "text/x-python",
   "name": "python",
   "nbconvert_exporter": "python",
   "pygments_lexer": "ipython3",
   "version": "3.12.4"
  }
 },
 "nbformat": 4,
 "nbformat_minor": 2
}
