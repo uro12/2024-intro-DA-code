{
 "cells": [
  {
   "cell_type": "markdown",
   "metadata": {},
   "source": [
    "# 데이터 분석 "
   ]
  },
  {
   "cell_type": "markdown",
   "metadata": {},
   "source": [
    "<h3>표준 파이썬에서 사용할 수 있는 모듈</h3>\n",
    "\n",
    "기본 자료형 및 연산 관련 모듈<hr>\n",
    "math: 기본 수학 함수 (삼각 함수, 로그 등)<br>\n",
    "decimal: 고정 소수점 및 고정 정밀도 연산<br>\n",
    "fractions: 분수 표현을 위한 클래스<br>\n",
    "random: 난수 생성 및 무작위 선택<br>\n",
    "<br><br>\n",
    "데이터 구조 관련 모듈<hr>\n",
    "collections: 고급 데이터 구조 (예: deque, Counter, defaultdict)<br>\n",
    "heapq: 힙 자료 구조를 위한 알고리즘<br>\n",
    "array: C 스타일 배열 사용을 위한 모듈<br>\n",
    "<br><br>\n",
    "날짜 및 시간 관련 모듈<hr>\n",
    "datetime: 날짜와 시간 관련 처리<br>\n",
    "time: 시간에 대한 처리 (유닉스 타임 등)<br>\n",
    "calendar: 달력 관련 기능<br>\n",
    "파일 및 디렉터리 관련 모듈\n",
    "os: 운영 체제와 상호작용 (파일 경로, 프로세스 관리 등)<br>\n",
    "shutil: 파일과 디렉터리 작업을 위한 고급 기능<br>\n",
    "pathlib: 파일 경로 객체를 다루기 위한 모듈<br>\n",
    "glob: 파일 패턴 매칭 (와일드카드 사용)<br>\n",
    "<br><br>\n",
    "데이터 직렬화 및 압축 관련 모듈<hr>\n",
    "json: JSON 형식으로 데이터 변환<br>\n",
    "pickle: 파이썬 객체 직렬화<br>\n",
    "csv: CSV 파일 읽기 및 쓰기<br>\n",
    "zipfile, gzip, tarfile: 파일 압축 및 압축 해제<br>\n",
    "<br><br>\n",
    "네트워킹 및 웹 관련 모듈<hr>\n",
    "http.client: HTTP 프로토콜 클라이언트<br>\n",
    "socket: 저수준 네트워킹 인터페이스<br>\n",
    "urllib: URL 처리 및 네트워킹 관련 기능<br>\n",
    "html.parser: HTML 구문 분석기<br>\n",
    "<br><br>\n",
    "스레딩 및 병렬 처리 모듈<hr>\n",
    "threading: 스레드 기반 병렬 처리<br>\n",
    "multiprocessing: 멀티프로세싱 기반 병렬 처리<br>\n",
    "concurrent.futures: 고수준 병렬 처리 인터페이스<br>\n",
    "asyncio: 비동기 I/O 프레임워크<br>\n",
    "<br><br>\n",
    "기타 유용한 유틸리티 모듈<hr>\n",
    "re: 정규 표현식을 이용한 문자열 매칭<br>\n",
    "logging: 로깅을 위한 모듈<br>\n",
    "argparse: 명령줄 인수 처리<br>\n",
    "itertools: 반복자 생성 및 조작<br>\n",
    "functools: 함수 관련 유틸리티 (캐싱, 파셜 함수 등)<br>\n",
    "subprocess: 외부 프로세스 실행<br>\n",
    "copy: 객체 복사 (얕은 복사와 깊은 복사)<br>"
   ]
  },
  {
   "cell_type": "markdown",
   "metadata": {},
   "source": [
    "\n",
    "<h3>파이썬 사전의 키로 사용할 수 있는 자료형에는 특정 조건이 있습니다. 기본적으로 **변경 불가능(immutable)**한 자료형만 키로 사용할 수 있습니다. 따라서 사전의 키로 사용 가능한 자료형은 다음과 같습니다:</h3>\n",
    "\n",
    " -   정수형 (int)\n",
    " -   실수형 (float)\n",
    " -   문자열형 (str)\n",
    " -   튜플 (tuple): 튜플에 포함된 모든 요소가 변경 불가능할 경우에만 키로 사용할 수 있습니다. 예를 들어, (1, 2, 'a')는 키로 사용 가능하지만 (1, [2], 'a')는 키로 사용할 수 없습니다.\n",
    " -   불린형 (bool): True와 False도 키로 사용할 수 있습니다.\n",
    " -   frozenset: 변경이 불가능한 집합형 자료형으로, 사전의 키로 사용 가능합니다.\n",
    "<br><br>\n",
    "반면, 리스트, 집합, 사전처럼 변경 가능한 자료형은 키로 사용할 수 없습니다. 이는 변경 가능한 자료형이 해시 가능하지 않기 때문인데, 해시가 변할 경우 키로서의 일관성을 유지하기 어렵기 때문입니다."
   ]
  },
  {
   "cell_type": "markdown",
   "metadata": {},
   "source": [
    "자료형 사전에 대하여\n",
    "- 자료형 사전(또는 데이터 타입 사전)은 프로그래밍 언어나 데이터베이스 시스템에서 사용되는 자료형들에 대한 정보를 체계적으로 정리한 문서입니다. 이 문서는 각 자료형의 특성, 범위, 가능한 연산, 제약 사항 등에 대해 설명합니다."
   ]
  },
  {
   "cell_type": "markdown",
   "metadata": {},
   "source": [
    "set은 파이썬에서 중복되지 않는 값을 모아둔 집합 자료형으로, 각 원소는 해시 가능해야 합니다. 따라서, **변경 불가능(immutable)**한 자료형만 set의 원소로 사용할 수 있습니다.\n",
    "<br><br>\n",
    "set의 원소로 사용할 수 있는 자료형:\n",
    "<br>\n",
    "- 정수형 (int)\n",
    "- 실수형 (float)\n",
    "- 문자열형 (str)\n",
    "- 불린형 (bool)\n",
    "- 튜플 (tuple): 튜플에 포함된 모든 요소가 변경 불가능한 경우에만 사용 가능. 예를 들어 (1, 2, \"a\")는 set의 원소가 될 수 있지만, (1, [2], \"a\")처럼 내부에 리스트가 포함된 튜플은 원소로 사용할 수 없습니다.\n",
    "- frozenset: 변경이 불가능한 집합 자료형으로, set의 원소로 사용 가능\n",
    "</li><br>\n",
    "set의 원소로 사용할 수 없는 자료형\n",
    "다음과 같은 자료형들은 변경 가능(mutable)하여 set의 원소로 사용할 수 없습니다:\n",
    "\n",
    "- 리스트 (list)\n",
    "- 집합 (set)\n",
    "- 딕셔너리 (dict)\n",
    "</li>이러한 자료형들은 해시 가능하지 않기 때문에 set이나 dict의 키로도 사용할 수 없습니다."
   ]
  },
  {
   "cell_type": "code",
   "execution_count": 2,
   "metadata": {},
   "outputs": [],
   "source": [
    "import numpy as np\n",
    "import matplotlib.pyplot as plt\n",
    "\n",
    "a = np.array([1,2,3])\n",
    "b = np.array([11,12,13])\n",
    "a2 = np.array ([[1,2,3]])\n",
    "b2 = ([[11,12,13]])"
   ]
  },
  {
   "cell_type": "code",
   "execution_count": 8,
   "metadata": {},
   "outputs": [
    {
     "data": {
      "text/plain": [
       "array([1., 2., 3.])"
      ]
     },
     "execution_count": 8,
     "metadata": {},
     "output_type": "execute_result"
    }
   ],
   "source": [
    "np.arange(1.0, 4.0)"
   ]
  },
  {
   "cell_type": "code",
   "execution_count": 5,
   "metadata": {},
   "outputs": [
    {
     "data": {
      "text/plain": [
       "array([1., 2., 3.])"
      ]
     },
     "execution_count": 5,
     "metadata": {},
     "output_type": "execute_result"
    }
   ],
   "source": [
    "np.array([float(i-1) for i in range(2,5)])"
   ]
  },
  {
   "cell_type": "code",
   "execution_count": 9,
   "metadata": {},
   "outputs": [
    {
     "data": {
      "text/plain": [
       "array([1, 2, 3])"
      ]
     },
     "execution_count": 9,
     "metadata": {},
     "output_type": "execute_result"
    }
   ],
   "source": [
    "np.r_[1:4:1]"
   ]
  },
  {
   "cell_type": "code",
   "execution_count": 10,
   "metadata": {},
   "outputs": [
    {
     "data": {
      "text/plain": [
       "array([1., 2., 3., 4.])"
      ]
     },
     "execution_count": 10,
     "metadata": {},
     "output_type": "execute_result"
    }
   ],
   "source": [
    "np.r_[1:4:4j]"
   ]
  },
  {
   "cell_type": "code",
   "execution_count": 11,
   "metadata": {},
   "outputs": [
    {
     "data": {
      "text/plain": [
       "array([[ 1,  2,  3],\n",
       "       [11, 12, 13]])"
      ]
     },
     "execution_count": 11,
     "metadata": {},
     "output_type": "execute_result"
    }
   ],
   "source": [
    "np.vstack((a,b))"
   ]
  },
  {
   "cell_type": "code",
   "execution_count": 12,
   "metadata": {},
   "outputs": [
    {
     "data": {
      "text/plain": [
       "array([ 1,  2,  3, 11, 12, 13])"
      ]
     },
     "execution_count": 12,
     "metadata": {},
     "output_type": "execute_result"
    }
   ],
   "source": [
    "np.concatenate((a,b), axis=0)"
   ]
  },
  {
   "cell_type": "code",
   "execution_count": 14,
   "metadata": {},
   "outputs": [
    {
     "data": {
      "text/plain": [
       "array([[ 1,  2,  3],\n",
       "       [11, 12, 13]])"
      ]
     },
     "execution_count": 14,
     "metadata": {},
     "output_type": "execute_result"
    }
   ],
   "source": [
    "np.r_['0,2',a ,b]"
   ]
  },
  {
   "cell_type": "code",
   "execution_count": 17,
   "metadata": {},
   "outputs": [
    {
     "data": {
      "text/plain": [
       "array([[ 1,  2,  3],\n",
       "       [11, 12, 13]])"
      ]
     },
     "execution_count": 17,
     "metadata": {},
     "output_type": "execute_result"
    }
   ],
   "source": [
    "np.row_stack((a,b))"
   ]
  },
  {
   "cell_type": "markdown",
   "metadata": {},
   "source": [
    "-----------"
   ]
  },
  {
   "cell_type": "code",
   "execution_count": 18,
   "metadata": {},
   "outputs": [
    {
     "data": {
      "text/plain": [
       "array([[ 1, 11],\n",
       "       [ 2, 12],\n",
       "       [ 3, 13]])"
      ]
     },
     "execution_count": 18,
     "metadata": {},
     "output_type": "execute_result"
    }
   ],
   "source": [
    "np.stack((a,b), axis=1)"
   ]
  },
  {
   "cell_type": "code",
   "execution_count": 19,
   "metadata": {},
   "outputs": [
    {
     "data": {
      "text/plain": [
       "array([[ 1, 11],\n",
       "       [ 2, 12],\n",
       "       [ 3, 13]])"
      ]
     },
     "execution_count": 19,
     "metadata": {},
     "output_type": "execute_result"
    }
   ],
   "source": [
    "np.column_stack((a,b))"
   ]
  },
  {
   "cell_type": "code",
   "execution_count": 20,
   "metadata": {},
   "outputs": [
    {
     "data": {
      "text/plain": [
       "array([[ 1,  2,  3],\n",
       "       [11, 12, 13]])"
      ]
     },
     "execution_count": 20,
     "metadata": {},
     "output_type": "execute_result"
    }
   ],
   "source": [
    "np.vstack((a2, b2))"
   ]
  },
  {
   "cell_type": "code",
   "execution_count": 21,
   "metadata": {},
   "outputs": [
    {
     "data": {
      "text/plain": [
       "array([[ 1, 11],\n",
       "       [ 2, 12],\n",
       "       [ 3, 13]])"
      ]
     },
     "execution_count": 21,
     "metadata": {},
     "output_type": "execute_result"
    }
   ],
   "source": [
    "np.c_[a,b]"
   ]
  },
  {
   "cell_type": "markdown",
   "metadata": {},
   "source": [
    "-----------"
   ]
  },
  {
   "cell_type": "code",
   "execution_count": null,
   "metadata": {},
   "outputs": [],
   "source": [
    "x = np.array([1,2,3])\n",
    "z = x[np.newaxis] # x[np.newaxis]는 x의 차원을 하나 더 추가하여, x가 (3,)에서 (1, 3) 모양의 2차원 배열로 변환됩니다.\n",
    "y= np.array([[1],[2],[3]])\n",
    "r = np.multiply(x, y) \n",
    "# np.multiply는 요소별(element-wise) 곱셈을 수행함. x와 y는 차원이 다르지만, numpy는 브로드캐스팅(broadcasting)을 사용하여 자동으로 배열의 크기를 맞추어 연산을 수행"
   ]
  },
  {
   "cell_type": "code",
   "execution_count": 40,
   "metadata": {},
   "outputs": [
    {
     "data": {
      "text/plain": [
       "array([1, 2, 3])"
      ]
     },
     "execution_count": 40,
     "metadata": {},
     "output_type": "execute_result"
    }
   ],
   "source": [
    "x"
   ]
  },
  {
   "cell_type": "code",
   "execution_count": 35,
   "metadata": {},
   "outputs": [
    {
     "data": {
      "text/plain": [
       "array([[1],\n",
       "       [2],\n",
       "       [3]])"
      ]
     },
     "execution_count": 35,
     "metadata": {},
     "output_type": "execute_result"
    }
   ],
   "source": [
    "y"
   ]
  },
  {
   "cell_type": "code",
   "execution_count": 36,
   "metadata": {},
   "outputs": [
    {
     "data": {
      "text/plain": [
       "array([[1, 2, 3]])"
      ]
     },
     "execution_count": 36,
     "metadata": {},
     "output_type": "execute_result"
    }
   ],
   "source": [
    "z"
   ]
  },
  {
   "cell_type": "code",
   "execution_count": 37,
   "metadata": {},
   "outputs": [
    {
     "data": {
      "text/plain": [
       "array([[1, 2, 3],\n",
       "       [2, 4, 6],\n",
       "       [3, 6, 9]])"
      ]
     },
     "execution_count": 37,
     "metadata": {},
     "output_type": "execute_result"
    }
   ],
   "source": [
    "r"
   ]
  },
  {
   "cell_type": "code",
   "execution_count": 24,
   "metadata": {},
   "outputs": [
    {
     "data": {
      "text/plain": [
       "(3,)"
      ]
     },
     "execution_count": 24,
     "metadata": {},
     "output_type": "execute_result"
    }
   ],
   "source": [
    "x.shape"
   ]
  },
  {
   "cell_type": "code",
   "execution_count": 31,
   "metadata": {},
   "outputs": [
    {
     "data": {
      "text/plain": [
       "(3, 1)"
      ]
     },
     "execution_count": 31,
     "metadata": {},
     "output_type": "execute_result"
    }
   ],
   "source": [
    "y.shape"
   ]
  },
  {
   "cell_type": "code",
   "execution_count": 32,
   "metadata": {},
   "outputs": [
    {
     "data": {
      "text/plain": [
       "(1, 3)"
      ]
     },
     "execution_count": 32,
     "metadata": {},
     "output_type": "execute_result"
    }
   ],
   "source": [
    "z.shape"
   ]
  },
  {
   "cell_type": "code",
   "execution_count": 33,
   "metadata": {},
   "outputs": [
    {
     "data": {
      "text/plain": [
       "(3, 3)"
      ]
     },
     "execution_count": 33,
     "metadata": {},
     "output_type": "execute_result"
    }
   ],
   "source": [
    "r.shape"
   ]
  },
  {
   "cell_type": "code",
   "execution_count": 25,
   "metadata": {},
   "outputs": [
    {
     "data": {
      "text/plain": [
       "3"
      ]
     },
     "execution_count": 25,
     "metadata": {},
     "output_type": "execute_result"
    }
   ],
   "source": [
    "y.shape[0]"
   ]
  },
  {
   "cell_type": "code",
   "execution_count": 26,
   "metadata": {},
   "outputs": [
    {
     "data": {
      "text/plain": [
       "1"
      ]
     },
     "execution_count": 26,
     "metadata": {},
     "output_type": "execute_result"
    }
   ],
   "source": [
    "z.shape[0]"
   ]
  },
  {
   "cell_type": "code",
   "execution_count": 27,
   "metadata": {},
   "outputs": [
    {
     "data": {
      "text/plain": [
       "9"
      ]
     },
     "execution_count": 27,
     "metadata": {},
     "output_type": "execute_result"
    }
   ],
   "source": [
    "r[-1, -1]"
   ]
  },
  {
   "cell_type": "code",
   "execution_count": 28,
   "metadata": {},
   "outputs": [
    {
     "data": {
      "text/plain": [
       "4"
      ]
     },
     "execution_count": 28,
     "metadata": {},
     "output_type": "execute_result"
    }
   ],
   "source": [
    "\n",
    "r[[1],[1]][0]"
   ]
  },
  {
   "cell_type": "code",
   "execution_count": 55,
   "metadata": {},
   "outputs": [],
   "source": [
    "t = np.array([[[1,2,3]]])"
   ]
  },
  {
   "cell_type": "code",
   "execution_count": 56,
   "metadata": {},
   "outputs": [
    {
     "data": {
      "text/plain": [
       "array([[[1, 2, 3]]])"
      ]
     },
     "execution_count": 56,
     "metadata": {},
     "output_type": "execute_result"
    }
   ],
   "source": [
    "t"
   ]
  },
  {
   "cell_type": "code",
   "execution_count": 49,
   "metadata": {},
   "outputs": [
    {
     "data": {
      "text/plain": [
       "(1, 1, 3)"
      ]
     },
     "execution_count": 49,
     "metadata": {},
     "output_type": "execute_result"
    }
   ],
   "source": [
    "t.shape"
   ]
  },
  {
   "cell_type": "markdown",
   "metadata": {},
   "source": [
    "----------------------"
   ]
  },
  {
   "cell_type": "code",
   "execution_count": 16,
   "metadata": {},
   "outputs": [
    {
     "name": "stdout",
     "output_type": "stream",
     "text": [
      "7.0\n"
     ]
    }
   ],
   "source": [
    "h = np.full((3,), 3) + np.eye(3)\n",
    "print(np.cumsum(h, axis=0)[1][1])\n"
   ]
  },
  {
   "cell_type": "code",
   "execution_count": 17,
   "metadata": {},
   "outputs": [
    {
     "name": "stdout",
     "output_type": "stream",
     "text": [
      "10.0\n"
     ]
    }
   ],
   "source": [
    "\n",
    "print(np.sum(h, axis=1)[1])"
   ]
  },
  {
   "cell_type": "code",
   "execution_count": 18,
   "metadata": {},
   "outputs": [
    {
     "data": {
      "text/plain": [
       "array([[4., 3., 3.],\n",
       "       [3., 4., 3.],\n",
       "       [3., 3., 4.]])"
      ]
     },
     "execution_count": 18,
     "metadata": {},
     "output_type": "execute_result"
    }
   ],
   "source": [
    "h"
   ]
  },
  {
   "cell_type": "code",
   "execution_count": 19,
   "metadata": {},
   "outputs": [],
   "source": [
    "h = np.cumsum(h, axis=0)"
   ]
  },
  {
   "cell_type": "code",
   "execution_count": 20,
   "metadata": {},
   "outputs": [
    {
     "data": {
      "text/plain": [
       "array([[ 4.,  3.,  3.],\n",
       "       [ 7.,  7.,  6.],\n",
       "       [10., 10., 10.]])"
      ]
     },
     "execution_count": 20,
     "metadata": {},
     "output_type": "execute_result"
    }
   ],
   "source": [
    "h"
   ]
  },
  {
   "cell_type": "code",
   "execution_count": 10,
   "metadata": {},
   "outputs": [
    {
     "data": {
      "text/plain": [
       "array([3, 3, 3])"
      ]
     },
     "execution_count": 10,
     "metadata": {},
     "output_type": "execute_result"
    }
   ],
   "source": [
    "n = np.full((3,), 3)\n",
    "n"
   ]
  },
  {
   "cell_type": "code",
   "execution_count": null,
   "metadata": {},
   "outputs": [
    {
     "data": {
      "text/plain": [
       "array([[1., 0., 0.],\n",
       "       [0., 1., 0.],\n",
       "       [0., 0., 1.]])"
      ]
     },
     "execution_count": 12,
     "metadata": {},
     "output_type": "execute_result"
    }
   ],
   "source": [
    "x = np.eye(3)\n",
    "\n",
    "x"
   ]
  },
  {
   "cell_type": "markdown",
   "metadata": {},
   "source": [
    "------------------------"
   ]
  },
  {
   "cell_type": "code",
   "execution_count": 14,
   "metadata": {},
   "outputs": [
    {
     "name": "stdout",
     "output_type": "stream",
     "text": [
      "25\n"
     ]
    }
   ],
   "source": [
    "import csv\n",
    "\n",
    "file = open('person.csv','r', encoding='cp949')\n",
    "data = csv.reader(file)\n",
    "for row in data:\n",
    "    if row[0] == 'Bob':\n",
    "        print(row[1])"
   ]
  },
  {
   "cell_type": "markdown",
   "metadata": {},
   "source": [
    "-------------------------"
   ]
  },
  {
   "cell_type": "code",
   "execution_count": 17,
   "metadata": {},
   "outputs": [
    {
     "data": {
      "image/png": "[encoded data removed]",
      "text/plain": [
       "<Figure size 640x480 with 1 Axes>"
      ]
     },
     "metadata": {},
     "output_type": "display_data"
    }
   ],
   "source": [
    "import numpy as np\n",
    "import matplotlib.pyplot as plt\n",
    "\n",
    "data = [2, 3, 4, 5, 5, 6, 6]\n",
    "plt.hist(data, bins=np.arange(.5, 7, 2))     # np.arange(start, stop, step) step -> 2를 간격으로 값을 생성합니다.\n",
    "plt.show()"
   ]
  },
  {
   "cell_type": "code",
   "execution_count": 19,
   "metadata": {},
   "outputs": [
    {
     "data": {
      "image/png": "[encoded data removed]",
      "text/plain": [
       "<Figure size 800x600 with 6 Axes>"
      ]
     },
     "metadata": {},
     "output_type": "display_data"
    }
   ],
   "source": [
    "fig, axes = plt.subplots(2, 3, figsize=(8, 6))\n",
    "x = np.linspace(0, 5, 10)\n",
    "\n",
    "axes[0, 1].plot(x, x**2, '*')\n",
    "axes[1, 2].plot(x, np.sin(x))\n",
    "plt.show()"
   ]
  },
  {
   "cell_type": "code",
   "execution_count": null,
   "metadata": {},
   "outputs": [],
   "source": []
  }
 ],
 "metadata": {
  "kernelspec": {
   "display_name": "base",
   "language": "python",
   "name": "python3"
  },
  "language_info": {
   "codemirror_mode": {
    "name": "ipython",
    "version": 3
   },
   "file_extension": ".py",
   "mimetype": "text/x-python",
   "name": "python",
   "nbconvert_exporter": "python",
   "pygments_lexer": "ipython3",
   "version": "3.12.4"
  }
 },
 "nbformat": 4,
 "nbformat_minor": 2
}
